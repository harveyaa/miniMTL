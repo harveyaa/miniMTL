{
 "cells": [
  {
   "cell_type": "code",
   "execution_count": 1,
   "metadata": {},
   "outputs": [
    {
     "name": "stderr",
     "output_type": "stream",
     "text": [
      "/Users/harveyaa/miniconda3/envs/fmri/lib/python3.9/site-packages/tqdm/auto.py:22: TqdmWarning: IProgress not found. Please update jupyter and ipywidgets. See https://ipywidgets.readthedocs.io/en/stable/user_install.html\n",
      "  from .autonotebook import tqdm as notebook_tqdm\n"
     ]
    }
   ],
   "source": [
    "import os\n",
    "import torch\n",
    "from torch.utils.data import Subset\n",
    "from torch.utils.data import DataLoader\n",
    "\n",
    "from miniMTL.datasets import caseControlDataset\n",
    "from miniMTL.models import *\n",
    "from miniMTL.training import Trainer\n",
    "\n",
    "from miniMTL.hps import HPSModel"
   ]
  },
  {
   "cell_type": "markdown",
   "metadata": {},
   "source": [
    "## Load data"
   ]
  },
  {
   "cell_type": "code",
   "execution_count": 2,
   "metadata": {},
   "outputs": [],
   "source": [
    "p_pheno = '/Users/harveyaa/Documents/masters/data/pheno_26-01-22.csv'\n",
    "p_ids = '/Users/harveyaa/Documents/masters/neuropsych_mtl/datasets/cv_folds/intrasite/'\n",
    "p_conn = os.path.join('/Users/harveyaa/Documents/masters/data/','connectomes')\n",
    "\n",
    "p_out = ''"
   ]
  },
  {
   "cell_type": "code",
   "execution_count": 3,
   "metadata": {},
   "outputs": [
    {
     "name": "stdout",
     "output_type": "stream",
     "text": [
      "Creating datasets...\n",
      "ASD\n"
     ]
    },
    {
     "name": "stderr",
     "output_type": "stream",
     "text": [
      "/Users/harveyaa/Documents/masters/miniMTL/miniMTL/datasets.py:190: DtypeWarning: Columns (7,8,12,13,14,19,20,24,27,31,42,43,44,49,51,59,60,62,64,65,68,101,121,163) have mixed types. Specify dtype option on import or set low_memory=False.\n",
      "  pheno = pd.read_csv(pheno_path,index_col=0)\n"
     ]
    },
    {
     "name": "stdout",
     "output_type": "stream",
     "text": [
      "BIP\n"
     ]
    },
    {
     "name": "stderr",
     "output_type": "stream",
     "text": [
      "/Users/harveyaa/Documents/masters/miniMTL/miniMTL/datasets.py:190: DtypeWarning: Columns (7,8,12,13,14,19,20,24,27,31,42,43,44,49,51,59,60,62,64,65,68,101,121,163) have mixed types. Specify dtype option on import or set low_memory=False.\n",
      "  pheno = pd.read_csv(pheno_path,index_col=0)\n"
     ]
    },
    {
     "name": "stdout",
     "output_type": "stream",
     "text": [
      "SZ\n"
     ]
    },
    {
     "name": "stderr",
     "output_type": "stream",
     "text": [
      "/Users/harveyaa/Documents/masters/miniMTL/miniMTL/datasets.py:190: DtypeWarning: Columns (7,8,12,13,14,19,20,24,27,31,42,43,44,49,51,59,60,62,64,65,68,101,121,163) have mixed types. Specify dtype option on import or set low_memory=False.\n",
      "  pheno = pd.read_csv(pheno_path,index_col=0)\n"
     ]
    },
    {
     "name": "stdout",
     "output_type": "stream",
     "text": [
      "DEL22q11_2\n"
     ]
    },
    {
     "name": "stderr",
     "output_type": "stream",
     "text": [
      "/Users/harveyaa/Documents/masters/miniMTL/miniMTL/datasets.py:190: DtypeWarning: Columns (7,8,12,13,14,19,20,24,27,31,42,43,44,49,51,59,60,62,64,65,68,101,121,163) have mixed types. Specify dtype option on import or set low_memory=False.\n",
      "  pheno = pd.read_csv(pheno_path,index_col=0)\n"
     ]
    },
    {
     "name": "stdout",
     "output_type": "stream",
     "text": [
      "DUP22q11_2\n"
     ]
    },
    {
     "name": "stderr",
     "output_type": "stream",
     "text": [
      "/Users/harveyaa/Documents/masters/miniMTL/miniMTL/datasets.py:190: DtypeWarning: Columns (7,8,12,13,14,19,20,24,27,31,42,43,44,49,51,59,60,62,64,65,68,101,121,163) have mixed types. Specify dtype option on import or set low_memory=False.\n",
      "  pheno = pd.read_csv(pheno_path,index_col=0)\n"
     ]
    },
    {
     "name": "stdout",
     "output_type": "stream",
     "text": [
      "DEL1q21_1\n"
     ]
    },
    {
     "name": "stderr",
     "output_type": "stream",
     "text": [
      "/Users/harveyaa/Documents/masters/miniMTL/miniMTL/datasets.py:190: DtypeWarning: Columns (7,8,12,13,14,19,20,24,27,31,42,43,44,49,51,59,60,62,64,65,68,101,121,163) have mixed types. Specify dtype option on import or set low_memory=False.\n",
      "  pheno = pd.read_csv(pheno_path,index_col=0)\n"
     ]
    },
    {
     "name": "stdout",
     "output_type": "stream",
     "text": [
      "DUP1q21_1\n"
     ]
    },
    {
     "name": "stderr",
     "output_type": "stream",
     "text": [
      "/Users/harveyaa/Documents/masters/miniMTL/miniMTL/datasets.py:190: DtypeWarning: Columns (7,8,12,13,14,19,20,24,27,31,42,43,44,49,51,59,60,62,64,65,68,101,121,163) have mixed types. Specify dtype option on import or set low_memory=False.\n",
      "  pheno = pd.read_csv(pheno_path,index_col=0)\n"
     ]
    },
    {
     "name": "stdout",
     "output_type": "stream",
     "text": [
      "DEL16p11_2\n"
     ]
    },
    {
     "name": "stderr",
     "output_type": "stream",
     "text": [
      "/Users/harveyaa/Documents/masters/miniMTL/miniMTL/datasets.py:190: DtypeWarning: Columns (7,8,12,13,14,19,20,24,27,31,42,43,44,49,51,59,60,62,64,65,68,101,121,163) have mixed types. Specify dtype option on import or set low_memory=False.\n",
      "  pheno = pd.read_csv(pheno_path,index_col=0)\n"
     ]
    },
    {
     "name": "stdout",
     "output_type": "stream",
     "text": [
      "DUP16p11_2\n",
      "Done!\n",
      "\n"
     ]
    },
    {
     "name": "stderr",
     "output_type": "stream",
     "text": [
      "/Users/harveyaa/Documents/masters/miniMTL/miniMTL/datasets.py:190: DtypeWarning: Columns (7,8,12,13,14,19,20,24,27,31,42,43,44,49,51,59,60,62,64,65,68,101,121,163) have mixed types. Specify dtype option on import or set low_memory=False.\n",
      "  pheno = pd.read_csv(pheno_path,index_col=0)\n"
     ]
    }
   ],
   "source": [
    "# Create datasets\n",
    "print('Creating datasets...')\n",
    "cases = ['ASD','BIP','SZ','DEL22q11_2','DUP22q11_2','DEL1q21_1','DUP1q21_1','DEL16p11_2','DUP16p11_2']\n",
    "#cases = ['ASD','BIP','SZ']\n",
    "#cases = ['DEL22q11_2']\n",
    "#cases = ['DEL1q21_1','DUP1q21_1']\n",
    "data = []\n",
    "for case in cases:\n",
    "    print(case)\n",
    "    data.append(caseControlDataset(case,p_pheno,id_path=p_ids,conn_path=p_conn,\n",
    "                                    type='conn',strategy='balanced',format=0))\n",
    "print('Done!\\n')"
   ]
  },
  {
   "cell_type": "code",
   "execution_count": 4,
   "metadata": {},
   "outputs": [
    {
     "name": "stdout",
     "output_type": "stream",
     "text": [
      "Initialized HPSModel using: cpu.\n",
      "\n"
     ]
    }
   ],
   "source": [
    "# Split data & create loaders & loss fns\n",
    "bs = 16\n",
    "\n",
    "loss_fns = {}\n",
    "trainloaders = {}\n",
    "testloaders = {}\n",
    "decoders = {}\n",
    "for d, case in zip(data,cases):\n",
    "    train_idx, test_idx = d.split_data(random=False,fold=4)\n",
    "    train_d = Subset(d,train_idx)\n",
    "    test_d = Subset(d,test_idx)\n",
    "    trainloaders[case] = DataLoader(train_d, batch_size=bs, shuffle=True)\n",
    "    testloaders[case] = DataLoader(test_d, batch_size=bs, shuffle=True)\n",
    "    loss_fns[case] = nn.CrossEntropyLoss()\n",
    "    decoders[case] = eval(f'head{3}().double()')\n",
    "    \n",
    "hps = HPSModel(eval(f'encoder{3}().double()'),\n",
    "                decoders,\n",
    "                loss_fns)"
   ]
  },
  {
   "cell_type": "code",
   "execution_count": 5,
   "metadata": {},
   "outputs": [],
   "source": [
    "# Create optimizer & trainer\n",
    "optim_hps = torch.optim.Adam(hps.parameters(), lr=1e-3)\n",
    "trainer_hps = Trainer(optim_hps,log_dir=p_out)"
   ]
  },
  {
   "cell_type": "code",
   "execution_count": 6,
   "metadata": {},
   "outputs": [
    {
     "name": "stderr",
     "output_type": "stream",
     "text": [
      "Epoch 0: 100%|██████████| 109/109 [00:08<00:00, 12.21it/s]\n",
      "Epoch 1: 100%|██████████| 109/109 [00:09<00:00, 11.98it/s]\n",
      "Epoch 2: 100%|██████████| 109/109 [00:08<00:00, 12.18it/s]\n",
      "Epoch 3: 100%|██████████| 109/109 [00:09<00:00, 12.06it/s]\n",
      "Epoch 4: 100%|██████████| 109/109 [00:08<00:00, 12.47it/s]\n",
      "Epoch 5: 100%|██████████| 109/109 [00:08<00:00, 12.65it/s]\n",
      "Epoch 6: 100%|██████████| 109/109 [00:08<00:00, 12.77it/s]\n",
      "Epoch 7: 100%|██████████| 109/109 [00:08<00:00, 12.68it/s]\n",
      "Epoch 8: 100%|██████████| 109/109 [00:08<00:00, 12.57it/s]\n",
      "Epoch 9: 100%|██████████| 109/109 [00:08<00:00, 12.55it/s]\n",
      "Epoch 10: 100%|██████████| 109/109 [00:08<00:00, 12.61it/s]\n",
      "Epoch 11: 100%|██████████| 109/109 [00:08<00:00, 12.62it/s]\n",
      "Epoch 12: 100%|██████████| 109/109 [00:08<00:00, 12.66it/s]\n",
      "Epoch 13: 100%|██████████| 109/109 [00:09<00:00, 12.08it/s]\n",
      "Epoch 14: 100%|██████████| 109/109 [00:09<00:00, 11.88it/s]\n",
      "Epoch 15: 100%|██████████| 109/109 [00:09<00:00, 12.08it/s]\n",
      "Epoch 16: 100%|██████████| 109/109 [00:09<00:00, 11.82it/s]\n",
      "Epoch 17: 100%|██████████| 109/109 [00:08<00:00, 12.48it/s]\n",
      "Epoch 18: 100%|██████████| 109/109 [00:08<00:00, 12.55it/s]\n",
      "Epoch 19: 100%|██████████| 109/109 [00:08<00:00, 12.55it/s]\n",
      "Epoch 20: 100%|██████████| 109/109 [00:08<00:00, 12.56it/s]\n",
      "Epoch 21: 100%|██████████| 109/109 [00:08<00:00, 12.61it/s]\n",
      "Epoch 22: 100%|██████████| 109/109 [00:08<00:00, 12.60it/s]\n",
      "Epoch 23: 100%|██████████| 109/109 [00:08<00:00, 12.59it/s]\n",
      "Epoch 24: 100%|██████████| 109/109 [00:08<00:00, 12.61it/s]\n",
      "Epoch 25: 100%|██████████| 109/109 [00:08<00:00, 12.55it/s]\n",
      "Epoch 26: 100%|██████████| 109/109 [00:08<00:00, 12.67it/s]\n",
      "Epoch 27: 100%|██████████| 109/109 [00:08<00:00, 12.60it/s]\n",
      "Epoch 28: 100%|██████████| 109/109 [00:08<00:00, 12.62it/s]\n",
      "Epoch 29: 100%|██████████| 109/109 [00:08<00:00, 12.63it/s]\n",
      "Epoch 30: 100%|██████████| 109/109 [00:08<00:00, 12.59it/s]\n",
      "Epoch 31: 100%|██████████| 109/109 [00:08<00:00, 12.64it/s]\n",
      "Epoch 32: 100%|██████████| 109/109 [00:08<00:00, 12.49it/s]\n",
      "Epoch 33: 100%|██████████| 109/109 [00:08<00:00, 12.63it/s]\n",
      "Epoch 34: 100%|██████████| 109/109 [00:08<00:00, 12.49it/s]\n",
      "Epoch 35: 100%|██████████| 109/109 [00:08<00:00, 12.59it/s]\n",
      "Epoch 36: 100%|██████████| 109/109 [00:08<00:00, 12.56it/s]\n",
      "Epoch 37: 100%|██████████| 109/109 [00:08<00:00, 12.53it/s]\n",
      "Epoch 38: 100%|██████████| 109/109 [00:08<00:00, 12.48it/s]\n",
      "Epoch 39: 100%|██████████| 109/109 [00:08<00:00, 12.56it/s]\n",
      "Epoch 40: 100%|██████████| 109/109 [00:08<00:00, 12.59it/s]\n",
      "Epoch 41: 100%|██████████| 109/109 [00:08<00:00, 12.59it/s]\n",
      "Epoch 42: 100%|██████████| 109/109 [00:08<00:00, 12.55it/s]\n",
      "Epoch 43: 100%|██████████| 109/109 [00:08<00:00, 12.52it/s]\n",
      "Epoch 44: 100%|██████████| 109/109 [00:08<00:00, 12.63it/s]\n",
      "Epoch 45: 100%|██████████| 109/109 [00:08<00:00, 12.50it/s]\n",
      "Epoch 46: 100%|██████████| 109/109 [00:08<00:00, 12.62it/s]\n",
      "Epoch 47: 100%|██████████| 109/109 [00:08<00:00, 12.59it/s]\n",
      "Epoch 48: 100%|██████████| 109/109 [00:08<00:00, 12.22it/s]\n",
      "Epoch 49: 100%|██████████| 109/109 [00:08<00:00, 12.20it/s]\n"
     ]
    }
   ],
   "source": [
    "# Train model\n",
    "trainer_hps.fit(hps,trainloaders,testloaders,num_epochs=50)"
   ]
  },
  {
   "cell_type": "code",
   "execution_count": 7,
   "metadata": {},
   "outputs": [
    {
     "name": "stdout",
     "output_type": "stream",
     "text": [
      "\n",
      "ASD\n",
      "Accuracy:  57.97872340425532\n",
      "Loss:  0.1369718253028779\n",
      "\n",
      "BIP\n",
      "Accuracy:  77.41935483870968\n",
      "Loss:  0.06530408812576415\n",
      "\n",
      "SZ\n",
      "Accuracy:  75.59055118110236\n",
      "Loss:  0.09313200944603715\n",
      "\n",
      "DEL22q11_2\n",
      "Accuracy:  76.47058823529412\n",
      "Loss:  0.06881384382984729\n",
      "\n",
      "DUP22q11_2\n",
      "Accuracy:  50.0\n",
      "Loss:  0.22229325533492122\n",
      "\n",
      "DEL1q21_1\n",
      "Accuracy:  30.0\n",
      "Loss:  0.4331672511722159\n",
      "\n",
      "DUP1q21_1\n",
      "Accuracy:  42.857142857142854\n",
      "Loss:  0.44524299089875496\n",
      "\n",
      "DEL16p11_2\n",
      "Accuracy:  41.66666666666667\n",
      "Loss:  0.3415105960658535\n",
      "\n",
      "DUP16p11_2\n",
      "Accuracy:  50.0\n",
      "Loss:  0.3076967009626213\n",
      "\n"
     ]
    }
   ],
   "source": [
    "# Evaluate at end\n",
    "metrics_hps = hps.score(testloaders)\n",
    "for key in metrics_hps.keys():\n",
    "    print()\n",
    "    print(key)\n",
    "    print('Accuracy: ', metrics_hps[key]['accuracy'])\n",
    "    print('Loss: ', metrics_hps[key]['loss'])\n",
    "print()"
   ]
  },
  {
   "cell_type": "code",
   "execution_count": 8,
   "metadata": {},
   "outputs": [
    {
     "data": {
      "text/plain": [
       "{'ASD': {'accuracy': 57.97872340425532, 'loss': 0.1369718253028779},\n",
       " 'BIP': {'accuracy': 77.41935483870968, 'loss': 0.06530408812576415},\n",
       " 'SZ': {'accuracy': 75.59055118110236, 'loss': 0.09313200944603715},\n",
       " 'DEL22q11_2': {'accuracy': 76.47058823529412, 'loss': 0.06881384382984729},\n",
       " 'DUP22q11_2': {'accuracy': 50.0, 'loss': 0.22229325533492122},\n",
       " 'DEL1q21_1': {'accuracy': 30.0, 'loss': 0.4331672511722159},\n",
       " 'DUP1q21_1': {'accuracy': 42.857142857142854, 'loss': 0.44524299089875496},\n",
       " 'DEL16p11_2': {'accuracy': 41.66666666666667, 'loss': 0.3415105960658535},\n",
       " 'DUP16p11_2': {'accuracy': 50.0, 'loss': 0.3076967009626213}}"
      ]
     },
     "execution_count": 8,
     "metadata": {},
     "output_type": "execute_result"
    }
   ],
   "source": [
    "metrics_hps"
   ]
  },
  {
   "cell_type": "code",
   "execution_count": 17,
   "metadata": {},
   "outputs": [],
   "source": [
    "import pandas as pd\n",
    "\n",
    "p_22q = '/Users/harveyaa/Documents/masters/neuropsych_mtl/datasets/cv_folds/intrasite/DEL22q11_2.csv'\n",
    "df = pd.read_csv(p_22q,index_col = 0)"
   ]
  },
  {
   "cell_type": "code",
   "execution_count": 18,
   "metadata": {},
   "outputs": [
    {
     "data": {
      "text/plain": [
       "fold_0    18.0\n",
       "fold_1    17.0\n",
       "fold_2    17.0\n",
       "fold_3    17.0\n",
       "fold_4    17.0\n",
       "dtype: float64"
      ]
     },
     "execution_count": 18,
     "metadata": {},
     "output_type": "execute_result"
    }
   ],
   "source": [
    "df.sum()"
   ]
  },
  {
   "cell_type": "code",
   "execution_count": 19,
   "metadata": {},
   "outputs": [
    {
     "data": {
      "text/plain": [
       "{'DEL22q11_2': {'accuracy': 64.70588235294117, 'loss': 0.08235064123016032}}"
      ]
     },
     "execution_count": 19,
     "metadata": {},
     "output_type": "execute_result"
    }
   ],
   "source": [
    "hps.score(testloaders)"
   ]
  },
  {
   "cell_type": "code",
   "execution_count": null,
   "metadata": {},
   "outputs": [],
   "source": []
  }
 ],
 "metadata": {
  "kernelspec": {
   "display_name": "Python 3.9.15 ('fmri')",
   "language": "python",
   "name": "python3"
  },
  "language_info": {
   "codemirror_mode": {
    "name": "ipython",
    "version": 3
   },
   "file_extension": ".py",
   "mimetype": "text/x-python",
   "name": "python",
   "nbconvert_exporter": "python",
   "pygments_lexer": "ipython3",
   "version": "3.9.15"
  },
  "orig_nbformat": 4,
  "vscode": {
   "interpreter": {
    "hash": "7ea07d7e26f64274b859969024e9bc122a0aaa5b386426249452447396636cf1"
   }
  }
 },
 "nbformat": 4,
 "nbformat_minor": 2
}
