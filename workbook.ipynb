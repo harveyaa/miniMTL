{
 "cells": [
  {
   "cell_type": "code",
   "execution_count": 3,
   "metadata": {},
   "outputs": [],
   "source": [
    "import os\n",
    "import tempfile\n",
    "import numpy as np\n",
    "import pandas as pd\n",
    "import matplotlib.pyplot as plt\n",
    "import seaborn as sns\n",
    "\n",
    "import torch\n",
    "from torch.utils.data import DataLoader\n",
    "import torch.nn as nn\n",
    "import torch.nn.functional as F\n",
    "from torchsummary import summary\n",
    "\n",
    "from miniMTL.datasets import *\n",
    "from miniMTL.models import *\n",
    "from miniMTL.util import *\n",
    "from miniMTL.training import *\n",
    "from miniMTL.hps import *"
   ]
  },
  {
   "cell_type": "code",
   "execution_count": 4,
   "metadata": {},
   "outputs": [],
   "source": [
    "def smooth(scalars, weight=0.9):  # Weight between 0 and 1\n",
    "    last = scalars[0]  # First value in the plot (first timestep)\n",
    "    smoothed = list()\n",
    "    for point in scalars:\n",
    "        smoothed_val = last * weight + (1 - weight) * point  # Calculate smoothed value\n",
    "        smoothed.append(smoothed_val)                        # Save it\n",
    "        last = smoothed_val                                  # Anchor the last smoothed value\n",
    "        \n",
    "    return smoothed"
   ]
  },
  {
   "cell_type": "markdown",
   "metadata": {},
   "source": [
    "## Load data"
   ]
  },
  {
   "cell_type": "code",
   "execution_count": 5,
   "metadata": {},
   "outputs": [],
   "source": [
    "p_pheno = '/home/harveyaa/Documents/fMRI/data/ukbb_9cohorts/pheno_01-12-21.csv'\n",
    "p_ids = '/home/harveyaa/Documents/masters/neuropsych_mtl/datasets/cv_folds/hybrid'\n",
    "p_conn = '/home/harveyaa/Documents/fMRI/data/ukbb_9cohorts/connectomes/'\n",
    "\n",
    "cases = ['SZ',\n",
    "        #'BIP',\n",
    "        #'ASD',\n",
    "        #'DEL22q11_2',\n",
    "        #'DEL16p11_2',\n",
    "        #'DUP16p11_2',\n",
    "        #'DUP22q11_2',\n",
    "        #'DEL1q21_1',\n",
    "        #'DUP1q21_1'\n",
    "        ]"
   ]
  },
  {
   "cell_type": "markdown",
   "metadata": {},
   "source": [
    "# MTL"
   ]
  },
  {
   "cell_type": "code",
   "execution_count": 6,
   "metadata": {},
   "outputs": [
    {
     "name": "stdout",
     "output_type": "stream",
     "text": [
      "Creating datasets...\n",
      "SZ\n",
      "Done!\n",
      "\n"
     ]
    },
    {
     "name": "stderr",
     "output_type": "stream",
     "text": [
      "/home/harveyaa/miniconda3/envs/MTL/lib/python3.6/site-packages/IPython/core/interactiveshell.py:2818: DtypeWarning: Columns (7,8,12,13,14,19,20,24,27,31,42,43,44,49,51,59,60,62,64,65,68,101,121,163) have mixed types.Specify dtype option on import or set low_memory=False.\n",
      "  if self.run_code(code, result):\n"
     ]
    }
   ],
   "source": [
    "# Create datasets\n",
    "print('Creating datasets...')\n",
    "data = []\n",
    "for case in cases:\n",
    "    print(case)\n",
    "    #data.append(balancedCaseControlDataset(case,p_ids,p_conn,format=0))\n",
    "    data.append(caseControlDataset(case,p_pheno,conn_path=p_conn,strategy='stratified',type='conf',format=0))\n",
    "print('Done!\\n')"
   ]
  },
  {
   "cell_type": "code",
   "execution_count": 7,
   "metadata": {},
   "outputs": [
    {
     "data": {
      "text/plain": [
       "(58,)"
      ]
     },
     "execution_count": 7,
     "metadata": {},
     "output_type": "execute_result"
    }
   ],
   "source": [
    "X,y_dict = data[0].__getitem__(0)\n",
    "X.shape"
   ]
  },
  {
   "cell_type": "code",
   "execution_count": 8,
   "metadata": {},
   "outputs": [],
   "source": [
    "# BALANCED TEST SETS\n",
    "\n",
    "#batch_size=1\n",
    "#head=3\n",
    "#encoder=3\n",
    "#fold=4\n",
    "#\n",
    "#loss_fns = {}\n",
    "#trainloaders = {}\n",
    "#testloaders = {}\n",
    "#decoders = {}\n",
    "#for d, case in zip(data,cases):\n",
    "#    train_idx, test_idx = d.split_data(fold)\n",
    "#    train_d = Subset(d,train_idx)\n",
    "#    test_d = Subset(d,test_idx)\n",
    "#    trainloaders[case] = DataLoader(train_d, batch_size=batch_size, shuffle=True)\n",
    "#    testloaders[case] = DataLoader(test_d, batch_size=batch_size, shuffle=True)\n",
    "#    loss_fns[case] = nn.CrossEntropyLoss()\n",
    "#    decoders[case] = eval(f'head{head}().double()')"
   ]
  },
  {
   "cell_type": "code",
   "execution_count": 9,
   "metadata": {},
   "outputs": [],
   "source": [
    "# RANDOM TEST SETS\n",
    "\n",
    "batch_size=16\n",
    "head=4\n",
    "encoder=4\n",
    "\n",
    "# Split data & create loaders & loss fns\n",
    "loss_fns = {}\n",
    "trainloaders = {}\n",
    "testloaders = {}\n",
    "decoders = {}\n",
    "for d, case in zip(data,cases):\n",
    "    train_d, test_d = split_data(d)\n",
    "    trainloaders[case] = DataLoader(train_d, batch_size=batch_size, shuffle=True)\n",
    "    testloaders[case] = DataLoader(test_d, batch_size=batch_size, shuffle=True)\n",
    "    loss_fns[case] = nn.CrossEntropyLoss()\n",
    "    decoders[case] = eval(f'head{head}().double()')"
   ]
  },
  {
   "cell_type": "code",
   "execution_count": 10,
   "metadata": {},
   "outputs": [
    {
     "name": "stdout",
     "output_type": "stream",
     "text": [
      "Initialized HPSModel using: cpu.\n",
      "\n"
     ]
    }
   ],
   "source": [
    "# Create model\n",
    "model = HPSModel(eval(f'encoder{encoder}().double()'),\n",
    "                decoders,\n",
    "                loss_fns)"
   ]
  },
  {
   "cell_type": "code",
   "execution_count": 11,
   "metadata": {},
   "outputs": [
    {
     "name": "stdout",
     "output_type": "stream",
     "text": [
      "/home/harveyaa/Documents/masters/neuropsych_mtl/tmp\n"
     ]
    }
   ],
   "source": [
    "log_dir = '/home/harveyaa/Documents/masters/neuropsych_mtl/tmp'\n",
    "print(log_dir)"
   ]
  },
  {
   "cell_type": "code",
   "execution_count": 12,
   "metadata": {},
   "outputs": [],
   "source": [
    "num_epochs=100\n",
    "lr = 0.001\n",
    "\n",
    "# Create optimizer & trainer\n",
    "optimizer = torch.optim.Adam(model.parameters(), lr=lr)\n",
    "#scheduler = torch.optim.lr_scheduler.ExponentialLR(optimizer, gamma=0.1)\n",
    "#scheduler = torch.optim.lr_scheduler.StepLR(optimizer, step_size=20, gamma=0.05)\n",
    "\n",
    "#trainer = Trainer(optimizer,lr_scheduler=scheduler,num_epochs=num_epochs,log_dir=log_dir)\n",
    "trainer = Trainer(optimizer,num_epochs=num_epochs,log_dir=log_dir)"
   ]
  },
  {
   "cell_type": "code",
   "execution_count": 13,
   "metadata": {},
   "outputs": [
    {
     "name": "stderr",
     "output_type": "stream",
     "text": [
      "Epoch 0: 100%|██████████| 29/29 [00:00<00:00, 33.84it/s]\n",
      "Epoch 1: 100%|██████████| 29/29 [00:00<00:00, 32.55it/s]\n",
      "Epoch 2: 100%|██████████| 29/29 [00:00<00:00, 35.04it/s]\n",
      "Epoch 3: 100%|██████████| 29/29 [00:00<00:00, 36.81it/s]\n",
      "Epoch 4: 100%|██████████| 29/29 [00:00<00:00, 35.88it/s]\n",
      "Epoch 5: 100%|██████████| 29/29 [00:00<00:00, 37.31it/s]\n",
      "Epoch 6: 100%|██████████| 29/29 [00:00<00:00, 36.68it/s]\n",
      "Epoch 7: 100%|██████████| 29/29 [00:00<00:00, 38.23it/s]\n",
      "Epoch 8: 100%|██████████| 29/29 [00:00<00:00, 39.84it/s]\n",
      "Epoch 9: 100%|██████████| 29/29 [00:00<00:00, 39.78it/s]\n",
      "Epoch 10: 100%|██████████| 29/29 [00:00<00:00, 37.14it/s]\n",
      "Epoch 11: 100%|██████████| 29/29 [00:00<00:00, 38.28it/s]\n",
      "Epoch 12: 100%|██████████| 29/29 [00:00<00:00, 37.23it/s]\n",
      "Epoch 13: 100%|██████████| 29/29 [00:00<00:00, 36.33it/s]\n",
      "Epoch 14: 100%|██████████| 29/29 [00:00<00:00, 36.14it/s]\n",
      "Epoch 15: 100%|██████████| 29/29 [00:00<00:00, 36.75it/s]\n",
      "Epoch 16: 100%|██████████| 29/29 [00:00<00:00, 38.88it/s]\n",
      "Epoch 17: 100%|██████████| 29/29 [00:00<00:00, 35.93it/s]\n",
      "Epoch 18: 100%|██████████| 29/29 [00:00<00:00, 37.51it/s]\n",
      "Epoch 19: 100%|██████████| 29/29 [00:00<00:00, 37.40it/s]\n",
      "Epoch 20: 100%|██████████| 29/29 [00:00<00:00, 35.26it/s]\n",
      "Epoch 21: 100%|██████████| 29/29 [00:00<00:00, 35.84it/s]\n",
      "Epoch 22: 100%|██████████| 29/29 [00:00<00:00, 36.76it/s]\n",
      "Epoch 23: 100%|██████████| 29/29 [00:00<00:00, 37.94it/s]\n",
      "Epoch 24: 100%|██████████| 29/29 [00:00<00:00, 36.42it/s]\n",
      "Epoch 25: 100%|██████████| 29/29 [00:00<00:00, 37.70it/s]\n",
      "Epoch 26: 100%|██████████| 29/29 [00:00<00:00, 35.03it/s]\n",
      "Epoch 27: 100%|██████████| 29/29 [00:00<00:00, 37.63it/s]\n",
      "Epoch 28: 100%|██████████| 29/29 [00:00<00:00, 37.08it/s]\n",
      "Epoch 29: 100%|██████████| 29/29 [00:00<00:00, 38.15it/s]\n",
      "Epoch 30: 100%|██████████| 29/29 [00:00<00:00, 36.19it/s]\n",
      "Epoch 31: 100%|██████████| 29/29 [00:00<00:00, 38.52it/s]\n",
      "Epoch 32: 100%|██████████| 29/29 [00:00<00:00, 40.42it/s]\n",
      "Epoch 33: 100%|██████████| 29/29 [00:00<00:00, 38.62it/s]\n",
      "Epoch 34: 100%|██████████| 29/29 [00:00<00:00, 34.64it/s]\n",
      "Epoch 35: 100%|██████████| 29/29 [00:00<00:00, 35.67it/s]\n",
      "Epoch 36: 100%|██████████| 29/29 [00:00<00:00, 36.37it/s]\n",
      "Epoch 37: 100%|██████████| 29/29 [00:00<00:00, 37.31it/s]\n",
      "Epoch 38: 100%|██████████| 29/29 [00:00<00:00, 35.72it/s]\n",
      "Epoch 39: 100%|██████████| 29/29 [00:00<00:00, 36.58it/s]\n",
      "Epoch 40: 100%|██████████| 29/29 [00:00<00:00, 36.20it/s]\n",
      "Epoch 41: 100%|██████████| 29/29 [00:00<00:00, 36.76it/s]\n",
      "Epoch 42: 100%|██████████| 29/29 [00:00<00:00, 35.22it/s]\n",
      "Epoch 43: 100%|██████████| 29/29 [00:00<00:00, 32.90it/s]\n",
      "Epoch 44: 100%|██████████| 29/29 [00:00<00:00, 34.40it/s]\n",
      "Epoch 45: 100%|██████████| 29/29 [00:00<00:00, 33.19it/s]\n",
      "Epoch 46: 100%|██████████| 29/29 [00:00<00:00, 33.10it/s]\n",
      "Epoch 47: 100%|██████████| 29/29 [00:00<00:00, 33.11it/s]\n",
      "Epoch 48: 100%|██████████| 29/29 [00:00<00:00, 33.64it/s]\n",
      "Epoch 49: 100%|██████████| 29/29 [00:00<00:00, 35.93it/s]\n",
      "Epoch 50: 100%|██████████| 29/29 [00:00<00:00, 35.42it/s]\n",
      "Epoch 51: 100%|██████████| 29/29 [00:00<00:00, 34.76it/s]\n",
      "Epoch 52: 100%|██████████| 29/29 [00:00<00:00, 32.85it/s]\n",
      "Epoch 53: 100%|██████████| 29/29 [00:00<00:00, 33.95it/s]\n",
      "Epoch 54: 100%|██████████| 29/29 [00:00<00:00, 33.68it/s]\n",
      "Epoch 55: 100%|██████████| 29/29 [00:00<00:00, 33.74it/s]\n",
      "Epoch 56: 100%|██████████| 29/29 [00:00<00:00, 32.08it/s]\n",
      "Epoch 57: 100%|██████████| 29/29 [00:00<00:00, 29.88it/s]\n",
      "Epoch 58: 100%|██████████| 29/29 [00:00<00:00, 29.73it/s]\n",
      "Epoch 59: 100%|██████████| 29/29 [00:00<00:00, 39.54it/s]\n",
      "Epoch 60: 100%|██████████| 29/29 [00:00<00:00, 38.91it/s]\n",
      "Epoch 61: 100%|██████████| 29/29 [00:00<00:00, 32.97it/s]\n",
      "Epoch 62: 100%|██████████| 29/29 [00:00<00:00, 31.39it/s]\n",
      "Epoch 63: 100%|██████████| 29/29 [00:00<00:00, 35.56it/s]\n",
      "Epoch 64: 100%|██████████| 29/29 [00:00<00:00, 35.91it/s]\n",
      "Epoch 65: 100%|██████████| 29/29 [00:00<00:00, 37.19it/s]\n",
      "Epoch 66: 100%|██████████| 29/29 [00:00<00:00, 29.87it/s]\n",
      "Epoch 67: 100%|██████████| 29/29 [00:00<00:00, 37.76it/s]\n",
      "Epoch 68: 100%|██████████| 29/29 [00:00<00:00, 34.34it/s]\n",
      "Epoch 69: 100%|██████████| 29/29 [00:00<00:00, 36.10it/s]\n",
      "Epoch 70: 100%|██████████| 29/29 [00:00<00:00, 35.64it/s]\n",
      "Epoch 71: 100%|██████████| 29/29 [00:00<00:00, 32.95it/s]\n",
      "Epoch 72: 100%|██████████| 29/29 [00:00<00:00, 37.92it/s]\n",
      "Epoch 73: 100%|██████████| 29/29 [00:00<00:00, 38.57it/s]\n",
      "Epoch 74: 100%|██████████| 29/29 [00:00<00:00, 37.07it/s]\n",
      "Epoch 75: 100%|██████████| 29/29 [00:00<00:00, 34.17it/s]\n",
      "Epoch 76: 100%|██████████| 29/29 [00:00<00:00, 36.88it/s]\n",
      "Epoch 77: 100%|██████████| 29/29 [00:00<00:00, 35.93it/s]\n",
      "Epoch 78: 100%|██████████| 29/29 [00:00<00:00, 35.03it/s]\n",
      "Epoch 79: 100%|██████████| 29/29 [00:00<00:00, 33.20it/s]\n",
      "Epoch 80: 100%|██████████| 29/29 [00:00<00:00, 32.06it/s]\n",
      "Epoch 81: 100%|██████████| 29/29 [00:00<00:00, 33.87it/s]\n",
      "Epoch 82: 100%|██████████| 29/29 [00:00<00:00, 35.45it/s]\n",
      "Epoch 83: 100%|██████████| 29/29 [00:00<00:00, 36.99it/s]\n",
      "Epoch 84: 100%|██████████| 29/29 [00:00<00:00, 41.28it/s]\n",
      "Epoch 85: 100%|██████████| 29/29 [00:00<00:00, 39.56it/s]\n",
      "Epoch 86: 100%|██████████| 29/29 [00:00<00:00, 37.04it/s]\n",
      "Epoch 87: 100%|██████████| 29/29 [00:00<00:00, 39.83it/s]\n",
      "Epoch 88: 100%|██████████| 29/29 [00:00<00:00, 36.99it/s]\n",
      "Epoch 89: 100%|██████████| 29/29 [00:00<00:00, 35.80it/s]\n",
      "Epoch 90: 100%|██████████| 29/29 [00:00<00:00, 40.24it/s]\n",
      "Epoch 91: 100%|██████████| 29/29 [00:01<00:00, 28.16it/s]\n",
      "Epoch 92: 100%|██████████| 29/29 [00:01<00:00, 27.64it/s]\n",
      "Epoch 93: 100%|██████████| 29/29 [00:01<00:00, 28.89it/s]\n",
      "Epoch 94: 100%|██████████| 29/29 [00:01<00:00, 28.35it/s]\n",
      "Epoch 95: 100%|██████████| 29/29 [00:01<00:00, 27.50it/s]\n",
      "Epoch 96: 100%|██████████| 29/29 [00:00<00:00, 30.97it/s]\n",
      "Epoch 97: 100%|██████████| 29/29 [00:01<00:00, 22.16it/s]\n",
      "Epoch 98: 100%|██████████| 29/29 [00:01<00:00, 28.51it/s]\n",
      "Epoch 99: 100%|██████████| 29/29 [00:00<00:00, 29.64it/s]\n"
     ]
    }
   ],
   "source": [
    "# Train model\n",
    "trainer.fit(model,trainloaders,testloaders)"
   ]
  },
  {
   "cell_type": "code",
   "execution_count": 11,
   "metadata": {},
   "outputs": [
    {
     "name": "stdout",
     "output_type": "stream",
     "text": [
      "\n",
      "SZ\n",
      "Accuracy:  53.98230088495575\n",
      "Loss:  0.05245458040815248\n",
      "\n"
     ]
    }
   ],
   "source": [
    "# BALANCED\n",
    "# SZ 51.59\n",
    "# BIP 50.0\n",
    "# ASD 47.3\n",
    "\n",
    "# RANDOM\n",
    "# SZ 58.59\n",
    "# BIP 71.875\n",
    "# ASD 49.74\n",
    "\n",
    "# Evaluate at end\n",
    "metrics = model.score(testloaders)\n",
    "for key in metrics.keys():\n",
    "    print()\n",
    "    print(key)\n",
    "    print('Accuracy: ', metrics[key]['accuracy'])\n",
    "    print('Loss: ', metrics[key]['loss'])\n",
    "print()"
   ]
  },
  {
   "cell_type": "code",
   "execution_count": 23,
   "metadata": {},
   "outputs": [
    {
     "data": {
      "text/plain": [
       "(2142,)"
      ]
     },
     "execution_count": 23,
     "metadata": {},
     "output_type": "execute_result"
    }
   ],
   "source": [
    "np.pad(np.random.randn((2080+58)),2).shape"
   ]
  },
  {
   "cell_type": "code",
   "execution_count": null,
   "metadata": {},
   "outputs": [],
   "source": []
  }
 ],
 "metadata": {
  "interpreter": {
   "hash": "9e9c9c5c044d2ea5dfa7d6bd44b9f426810f06c0ed392c2b436f27e01061f47c"
  },
  "kernelspec": {
   "display_name": "Python 3.7.12 ('MTL')",
   "language": "python",
   "name": "python3"
  },
  "language_info": {
   "codemirror_mode": {
    "name": "ipython",
    "version": 3
   },
   "file_extension": ".py",
   "mimetype": "text/x-python",
   "name": "python",
   "nbconvert_exporter": "python",
   "pygments_lexer": "ipython3",
   "version": "3.6.15"
  },
  "orig_nbformat": 4
 },
 "nbformat": 4,
 "nbformat_minor": 2
}
