{
 "cells": [
  {
   "cell_type": "code",
   "execution_count": 1,
   "metadata": {},
   "outputs": [],
   "source": [
    "import os\n",
    "import numpy as np\n",
    "import pandas as pd\n",
    "import matplotlib.pyplot as plt\n",
    "import seaborn as sns\n",
    "\n",
    "import torch\n",
    "from torch.utils.data import DataLoader\n",
    "import torch.nn as nn\n",
    "import torch.nn.functional as F\n",
    "\n",
    "from miniMTL.datasets import *\n",
    "from miniMTL.models import *\n",
    "from miniMTL.util import *\n",
    "from miniMTL.training import *"
   ]
  },
  {
   "cell_type": "markdown",
   "metadata": {},
   "source": [
    "## Load data"
   ]
  },
  {
   "cell_type": "code",
   "execution_count": 2,
   "metadata": {},
   "outputs": [
    {
     "name": "stderr",
     "output_type": "stream",
     "text": [
      "/home/harveyaa/miniconda3/envs/MTL/lib/python3.7/site-packages/ipykernel_launcher.py:14: DtypeWarning: Columns (7,8,12,13,14,19,20,24,27,31,42,43,44,49,51,59,60,62,64,65,68,101,121,163) have mixed types.Specify dtype option on import or set low_memory=False.\n",
      "  \n"
     ]
    }
   ],
   "source": [
    "p_pheno = '/home/harveyaa/Documents/fMRI/data/ukbb_9cohorts/pheno_01-12-21.csv'\n",
    "p_conn = '/home/harveyaa/Documents/fMRI/data/ukbb_9cohorts/connectomes/'\n",
    "\n",
    "cases = ['SZ',\n",
    "        'BIP',\n",
    "        'ASD',\n",
    "        # 'DEL22q11_2',\n",
    "        # 'DEL16p11_2',\n",
    "        # 'DUP16p11_2',\n",
    "        # 'DUP22q11_2'\n",
    "        ]\n",
    "data = []\n",
    "for case in cases:\n",
    "    data.append(caseControlDataset(case,p_pheno,p_conn))"
   ]
  },
  {
   "cell_type": "code",
   "execution_count": 3,
   "metadata": {},
   "outputs": [],
   "source": [
    "loss_fns = {}\n",
    "trainloaders = {}\n",
    "testloaders = {}\n",
    "decoders = {}\n",
    "for d, case in zip(data,cases):\n",
    "    train_d, test_d = split_data(d)\n",
    "\n",
    "    trainloaders[case] = DataLoader(train_d, batch_size=16, shuffle=True)\n",
    "    testloaders[case] = DataLoader(test_d, batch_size=16, shuffle=True)\n",
    "    loss_fns[case] = nn.CrossEntropyLoss()\n",
    "    decoders[case] = head().double()"
   ]
  },
  {
   "cell_type": "code",
   "execution_count": 4,
   "metadata": {},
   "outputs": [
    {
     "name": "stdout",
     "output_type": "stream",
     "text": [
      "Initialized HPSModel using: cpu.\n"
     ]
    }
   ],
   "source": [
    "model = HPSModel(encoder().double(),\n",
    "                decoders,\n",
    "                loss_fns)"
   ]
  },
  {
   "cell_type": "code",
   "execution_count": 5,
   "metadata": {},
   "outputs": [],
   "source": [
    "learning_rate = 1e-3\n",
    "optimizer = torch.optim.Adam(model.parameters(), lr=learning_rate)"
   ]
  },
  {
   "cell_type": "code",
   "execution_count": 6,
   "metadata": {},
   "outputs": [
    {
     "name": "stderr",
     "output_type": "stream",
     "text": [
      "Epoch 0: 100%|██████████| 88/88 [00:09<00:00,  9.10it/s]\n",
      "Epoch 1: 100%|██████████| 88/88 [00:09<00:00,  9.30it/s]\n",
      "Epoch 2: 100%|██████████| 88/88 [00:09<00:00,  9.67it/s]\n",
      "Epoch 3: 100%|██████████| 88/88 [00:10<00:00,  8.11it/s]\n",
      "Epoch 4: 100%|██████████| 88/88 [00:10<00:00,  8.14it/s]\n",
      "Epoch 5: 100%|██████████| 88/88 [00:10<00:00,  8.07it/s]\n",
      "Epoch 6: 100%|██████████| 88/88 [00:10<00:00,  8.10it/s]\n",
      "Epoch 7: 100%|██████████| 88/88 [00:10<00:00,  8.14it/s]\n",
      "Epoch 8: 100%|██████████| 88/88 [00:11<00:00,  7.96it/s]\n",
      "Epoch 9: 100%|██████████| 88/88 [00:10<00:00,  8.17it/s]\n",
      "Epoch 10: 100%|██████████| 88/88 [00:10<00:00,  8.20it/s]\n",
      "Epoch 11: 100%|██████████| 88/88 [00:10<00:00,  8.10it/s]\n",
      "Epoch 12: 100%|██████████| 88/88 [00:10<00:00,  8.15it/s]\n",
      "Epoch 13: 100%|██████████| 88/88 [00:10<00:00,  8.28it/s]\n",
      "Epoch 14: 100%|██████████| 88/88 [00:10<00:00,  8.37it/s]\n",
      "Epoch 15: 100%|██████████| 88/88 [00:10<00:00,  8.35it/s]\n",
      "Epoch 16: 100%|██████████| 88/88 [00:10<00:00,  8.56it/s]\n",
      "Epoch 17: 100%|██████████| 88/88 [00:10<00:00,  8.45it/s]\n",
      "Epoch 18: 100%|██████████| 88/88 [00:10<00:00,  8.38it/s]\n",
      "Epoch 19: 100%|██████████| 88/88 [00:10<00:00,  8.38it/s]\n",
      "Epoch 20: 100%|██████████| 88/88 [00:10<00:00,  8.46it/s]\n",
      "Epoch 21: 100%|██████████| 88/88 [00:10<00:00,  8.42it/s]\n",
      "Epoch 22: 100%|██████████| 88/88 [00:10<00:00,  8.38it/s]\n",
      "Epoch 23: 100%|██████████| 88/88 [00:10<00:00,  8.42it/s]\n",
      "Epoch 24: 100%|██████████| 88/88 [00:10<00:00,  8.43it/s]\n",
      "Epoch 25: 100%|██████████| 88/88 [00:10<00:00,  8.40it/s]\n",
      "Epoch 26: 100%|██████████| 88/88 [00:10<00:00,  8.20it/s]\n",
      "Epoch 27: 100%|██████████| 88/88 [00:11<00:00,  7.91it/s]\n",
      "Epoch 28: 100%|██████████| 88/88 [00:10<00:00,  8.26it/s]\n",
      "Epoch 29: 100%|██████████| 88/88 [00:10<00:00,  8.28it/s]\n",
      "Epoch 30: 100%|██████████| 88/88 [00:10<00:00,  8.25it/s]\n",
      "Epoch 31: 100%|██████████| 88/88 [00:10<00:00,  8.28it/s]\n",
      "Epoch 32: 100%|██████████| 88/88 [00:10<00:00,  8.17it/s]\n",
      "Epoch 33: 100%|██████████| 88/88 [00:08<00:00, 10.67it/s]\n",
      "Epoch 34: 100%|██████████| 88/88 [00:06<00:00, 13.52it/s]\n",
      "Epoch 35: 100%|██████████| 88/88 [00:06<00:00, 13.21it/s]\n",
      "Epoch 36: 100%|██████████| 88/88 [00:07<00:00, 11.12it/s]\n",
      "Epoch 37: 100%|██████████| 88/88 [00:07<00:00, 12.55it/s]\n",
      "Epoch 38: 100%|██████████| 88/88 [00:06<00:00, 12.82it/s]\n",
      "Epoch 39: 100%|██████████| 88/88 [00:06<00:00, 12.89it/s]\n",
      "Epoch 40: 100%|██████████| 88/88 [00:08<00:00, 10.87it/s]\n",
      "Epoch 41: 100%|██████████| 88/88 [00:07<00:00, 12.48it/s]\n",
      "Epoch 42: 100%|██████████| 88/88 [00:07<00:00, 12.35it/s]\n",
      "Epoch 43: 100%|██████████| 88/88 [00:07<00:00, 12.38it/s]\n",
      "Epoch 44: 100%|██████████| 88/88 [00:07<00:00, 11.61it/s]\n",
      "Epoch 45: 100%|██████████| 88/88 [00:07<00:00, 12.06it/s]\n",
      "Epoch 46: 100%|██████████| 88/88 [00:07<00:00, 12.23it/s]\n",
      "Epoch 47: 100%|██████████| 88/88 [00:07<00:00, 12.53it/s]\n",
      "Epoch 48: 100%|██████████| 88/88 [00:07<00:00, 11.93it/s]\n",
      "Epoch 49: 100%|██████████| 88/88 [00:06<00:00, 12.89it/s]\n",
      "Epoch 50: 100%|██████████| 88/88 [00:06<00:00, 13.47it/s]\n",
      "Epoch 51: 100%|██████████| 88/88 [00:06<00:00, 13.51it/s]\n",
      "Epoch 52: 100%|██████████| 88/88 [00:06<00:00, 13.30it/s]\n",
      "Epoch 53: 100%|██████████| 88/88 [00:06<00:00, 13.14it/s]\n",
      "Epoch 54: 100%|██████████| 88/88 [00:06<00:00, 13.54it/s]\n",
      "Epoch 55: 100%|██████████| 88/88 [00:06<00:00, 13.44it/s]\n",
      "Epoch 56: 100%|██████████| 88/88 [00:06<00:00, 13.46it/s]\n",
      "Epoch 57: 100%|██████████| 88/88 [00:06<00:00, 13.49it/s]\n",
      "Epoch 58: 100%|██████████| 88/88 [00:06<00:00, 13.45it/s]\n",
      "Epoch 59: 100%|██████████| 88/88 [00:06<00:00, 13.33it/s]\n",
      "Epoch 60: 100%|██████████| 88/88 [00:06<00:00, 13.50it/s]\n",
      "Epoch 61: 100%|██████████| 88/88 [00:07<00:00, 12.57it/s]\n",
      "Epoch 62: 100%|██████████| 88/88 [00:07<00:00, 11.46it/s]\n",
      "Epoch 63: 100%|██████████| 88/88 [00:06<00:00, 13.46it/s]\n",
      "Epoch 64: 100%|██████████| 88/88 [00:06<00:00, 12.73it/s]\n",
      "Epoch 65: 100%|██████████| 88/88 [00:07<00:00, 12.22it/s]\n",
      "Epoch 66: 100%|██████████| 88/88 [00:07<00:00, 12.24it/s]\n",
      "Epoch 67: 100%|██████████| 88/88 [00:07<00:00, 12.42it/s]\n",
      "Epoch 68: 100%|██████████| 88/88 [00:07<00:00, 11.73it/s]\n",
      "Epoch 69: 100%|██████████| 88/88 [00:06<00:00, 12.77it/s]\n",
      "Epoch 70: 100%|██████████| 88/88 [00:07<00:00, 11.99it/s]\n",
      "Epoch 71: 100%|██████████| 88/88 [00:07<00:00, 11.67it/s]\n",
      "Epoch 72: 100%|██████████| 88/88 [00:06<00:00, 12.70it/s]\n",
      "Epoch 73: 100%|██████████| 88/88 [00:07<00:00, 12.45it/s]\n",
      "Epoch 74: 100%|██████████| 88/88 [00:07<00:00, 12.34it/s]\n",
      "Epoch 75: 100%|██████████| 88/88 [00:06<00:00, 12.68it/s]\n",
      "Epoch 76: 100%|██████████| 88/88 [00:07<00:00, 12.05it/s]\n",
      "Epoch 77: 100%|██████████| 88/88 [00:07<00:00, 12.36it/s]\n",
      "Epoch 78: 100%|██████████| 88/88 [00:07<00:00, 11.91it/s]\n",
      "Epoch 79: 100%|██████████| 88/88 [00:06<00:00, 12.69it/s]\n",
      "Epoch 80: 100%|██████████| 88/88 [00:07<00:00, 12.08it/s]\n",
      "Epoch 81: 100%|██████████| 88/88 [00:07<00:00, 12.30it/s]\n",
      "Epoch 82: 100%|██████████| 88/88 [00:07<00:00, 11.98it/s]\n",
      "Epoch 83: 100%|██████████| 88/88 [00:07<00:00, 11.65it/s]\n",
      "Epoch 84: 100%|██████████| 88/88 [00:07<00:00, 12.08it/s]\n",
      "Epoch 85: 100%|██████████| 88/88 [00:07<00:00, 12.35it/s]\n",
      "Epoch 86: 100%|██████████| 88/88 [00:06<00:00, 12.80it/s]\n",
      "Epoch 87: 100%|██████████| 88/88 [00:06<00:00, 13.13it/s]\n",
      "Epoch 88: 100%|██████████| 88/88 [00:06<00:00, 13.44it/s]\n",
      "Epoch 89: 100%|██████████| 88/88 [00:06<00:00, 13.41it/s]\n",
      "Epoch 90: 100%|██████████| 88/88 [00:06<00:00, 13.31it/s]\n",
      "Epoch 91: 100%|██████████| 88/88 [00:06<00:00, 13.48it/s]\n",
      "Epoch 92: 100%|██████████| 88/88 [00:07<00:00, 12.53it/s]\n",
      "Epoch 93: 100%|██████████| 88/88 [00:06<00:00, 12.77it/s]\n",
      "Epoch 94: 100%|██████████| 88/88 [00:06<00:00, 13.46it/s]\n",
      "Epoch 95: 100%|██████████| 88/88 [00:06<00:00, 13.30it/s]\n",
      "Epoch 96: 100%|██████████| 88/88 [00:07<00:00, 11.80it/s]\n",
      "Epoch 97: 100%|██████████| 88/88 [00:07<00:00, 11.66it/s]\n",
      "Epoch 98: 100%|██████████| 88/88 [00:07<00:00, 12.57it/s]\n",
      "Epoch 99: 100%|██████████| 88/88 [00:06<00:00, 13.26it/s]\n"
     ]
    }
   ],
   "source": [
    "trainer = Trainer(optimizer,100)\n",
    "\n",
    "trainer.fit(model,trainloaders,testloaders)"
   ]
  },
  {
   "cell_type": "code",
   "execution_count": 11,
   "metadata": {},
   "outputs": [
    {
     "name": "stdout",
     "output_type": "stream",
     "text": [
      "SZ\n",
      "Accuracy:  75.0\n",
      "Test loss:  0.03542333878302963\n",
      "\n",
      "BIP\n",
      "Accuracy:  75.0\n",
      "Test loss:  0.03516487538279056\n",
      "\n",
      "ASD\n",
      "Accuracy:  56.08465608465608\n",
      "Test loss:  0.047184154040325936\n",
      "\n"
     ]
    }
   ],
   "source": [
    "metrics = model.score(testloaders)\n",
    "for key in metrics.keys():\n",
    "    print(key)\n",
    "    print('Accuracy: ', metrics[key]['accuracy'])\n",
    "    print('Test loss: ', metrics[key]['test_loss'])\n",
    "    print()"
   ]
  },
  {
   "cell_type": "code",
   "execution_count": null,
   "metadata": {},
   "outputs": [],
   "source": []
  }
 ],
 "metadata": {
  "interpreter": {
   "hash": "9e9c9c5c044d2ea5dfa7d6bd44b9f426810f06c0ed392c2b436f27e01061f47c"
  },
  "kernelspec": {
   "display_name": "Python 3.7.12 ('MTL')",
   "language": "python",
   "name": "python3"
  },
  "language_info": {
   "codemirror_mode": {
    "name": "ipython",
    "version": 3
   },
   "file_extension": ".py",
   "mimetype": "text/x-python",
   "name": "python",
   "nbconvert_exporter": "python",
   "pygments_lexer": "ipython3",
   "version": "3.7.12"
  },
  "orig_nbformat": 4
 },
 "nbformat": 4,
 "nbformat_minor": 2
}
