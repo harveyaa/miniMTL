{
 "cells": [
  {
   "cell_type": "code",
   "execution_count": 8,
   "metadata": {},
   "outputs": [],
   "source": [
    "import os\n",
    "import numpy as np\n",
    "import pandas as pd\n",
    "import matplotlib.pyplot as plt\n",
    "import seaborn as sns\n",
    "\n",
    "import torch\n",
    "from torch.utils.data import DataLoader\n",
    "import torch.nn as nn\n",
    "import torch.nn.functional as F\n",
    "\n",
    "from datasets import *\n",
    "from models import *\n",
    "from util import *\n",
    "from training import *"
   ]
  },
  {
   "cell_type": "markdown",
   "metadata": {},
   "source": [
    "## Load data"
   ]
  },
  {
   "cell_type": "code",
   "execution_count": 2,
   "metadata": {},
   "outputs": [
    {
     "name": "stderr",
     "output_type": "stream",
     "text": [
      "/home/harveyaa/miniconda3/envs/MTL/lib/python3.7/site-packages/ipykernel_launcher.py:4: DtypeWarning: Columns (7,8,12,13,14,19,20,24,27,31,42,43,44,49,51,59,60,62,64,65,68,101,121,163) have mixed types.Specify dtype option on import or set low_memory=False.\n",
      "  after removing the cwd from sys.path.\n",
      "/home/harveyaa/miniconda3/envs/MTL/lib/python3.7/site-packages/ipykernel_launcher.py:5: DtypeWarning: Columns (7,8,12,13,14,19,20,24,27,31,42,43,44,49,51,59,60,62,64,65,68,101,121,163) have mixed types.Specify dtype option on import or set low_memory=False.\n",
      "  \"\"\"\n"
     ]
    }
   ],
   "source": [
    "p_pheno = '/home/harveyaa/Documents/fMRI/data/ukbb_9cohorts/pheno_01-12-21.csv'\n",
    "p_conn = '/home/harveyaa/Documents/fMRI/data/ukbb_9cohorts/connectomes_01-12-21.csv'\n",
    "\n",
    "data1 = caseControlDataset('SZ',p_pheno,p_conn)\n",
    "data2 = caseControlDataset('BIP',p_pheno,p_conn)\n",
    "\n",
    "task_to_name = {'task1':'SZ','task2':'BIP'}"
   ]
  },
  {
   "cell_type": "code",
   "execution_count": 3,
   "metadata": {},
   "outputs": [],
   "source": [
    "train_data1, test_data1 = split_data(data1)\n",
    "train_data2, test_data2 = split_data(data2)\n",
    "\n",
    "trainloader1 = DataLoader(train_data1, batch_size=16, shuffle=True)\n",
    "testloader1 = DataLoader(test_data1, batch_size=16, shuffle=True)\n",
    "\n",
    "trainloader2 = DataLoader(train_data2, batch_size=16, shuffle=True)\n",
    "testloader2 = DataLoader(test_data2, batch_size=16, shuffle=True)\n",
    "\n",
    "loss_fns = {task_to_name['task1']:nn.CrossEntropyLoss(),task_to_name['task2']:nn.CrossEntropyLoss()}"
   ]
  },
  {
   "cell_type": "code",
   "execution_count": 4,
   "metadata": {},
   "outputs": [],
   "source": [
    "model = HPSModel(encoder().double(),\n",
    "                {task_to_name['task1']:head().double(),task_to_name['task2']:head().double()},\n",
    "                loss_fns)"
   ]
  },
  {
   "cell_type": "code",
   "execution_count": 5,
   "metadata": {},
   "outputs": [],
   "source": [
    "trainloaders = {task_to_name['task1']:trainloader1, task_to_name['task2']:trainloader2}\n",
    "testloaders = {task_to_name['task1']:testloader1, task_to_name['task2']:testloader2}"
   ]
  },
  {
   "cell_type": "code",
   "execution_count": 6,
   "metadata": {},
   "outputs": [],
   "source": [
    "learning_rate = 1e-3\n",
    "optimizer = torch.optim.Adam(model.parameters(), lr=learning_rate)\n",
    "\n",
    "device = 'cpu'"
   ]
  },
  {
   "cell_type": "code",
   "execution_count": 9,
   "metadata": {},
   "outputs": [],
   "source": [
    "trainer = Trainer(optimizer,10)\n",
    "\n",
    "trainer.fit(model,trainloaders)"
   ]
  },
  {
   "cell_type": "code",
   "execution_count": 10,
   "metadata": {},
   "outputs": [
    {
     "name": "stdout",
     "output_type": "stream",
     "text": [
      "SZ\n",
      "Test Error: \n",
      " Accuracy: 57.0%, Avg loss: 0.042024 \n",
      "\n",
      "BIP\n",
      "Test Error: \n",
      " Accuracy: 59.4%, Avg loss: 0.042786 \n",
      "\n"
     ]
    }
   ],
   "source": [
    "testMTL(testloaders, model, loss_fns)"
   ]
  }
 ],
 "metadata": {
  "interpreter": {
   "hash": "9e9c9c5c044d2ea5dfa7d6bd44b9f426810f06c0ed392c2b436f27e01061f47c"
  },
  "kernelspec": {
   "display_name": "Python 3.7.12 ('MTL')",
   "language": "python",
   "name": "python3"
  },
  "language_info": {
   "codemirror_mode": {
    "name": "ipython",
    "version": 3
   },
   "file_extension": ".py",
   "mimetype": "text/x-python",
   "name": "python",
   "nbconvert_exporter": "python",
   "pygments_lexer": "ipython3",
   "version": "3.7.12"
  },
  "orig_nbformat": 4
 },
 "nbformat": 4,
 "nbformat_minor": 2
}
