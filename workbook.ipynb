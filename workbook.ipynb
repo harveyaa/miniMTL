{
 "cells": [
  {
   "cell_type": "code",
   "execution_count": 1,
   "metadata": {},
   "outputs": [],
   "source": [
    "import os\n",
    "import numpy as np\n",
    "import pandas as pd\n",
    "import matplotlib.pyplot as plt\n",
    "import seaborn as sns\n",
    "\n",
    "import torch\n",
    "from torch.utils.data import DataLoader\n",
    "import torch.nn as nn\n",
    "import torch.nn.functional as F\n",
    "\n",
    "from miniMTL.datasets import *\n",
    "from miniMTL.models import *\n",
    "from miniMTL.util import *\n",
    "from miniMTL.training import *"
   ]
  },
  {
   "cell_type": "markdown",
   "metadata": {},
   "source": [
    "## Load data"
   ]
  },
  {
   "cell_type": "code",
   "execution_count": 2,
   "metadata": {},
   "outputs": [
    {
     "name": "stderr",
     "output_type": "stream",
     "text": [
      "/home/harveyaa/miniconda3/envs/MTL/lib/python3.7/site-packages/ipykernel_launcher.py:14: DtypeWarning: Columns (7,8,12,13,14,19,20,24,27,31,42,43,44,49,51,59,60,62,64,65,68,101,121,163) have mixed types.Specify dtype option on import or set low_memory=False.\n",
      "  \n"
     ]
    }
   ],
   "source": [
    "p_pheno = '/home/harveyaa/Documents/fMRI/data/ukbb_9cohorts/pheno_01-12-21.csv'\n",
    "p_conn = '/home/harveyaa/Documents/fMRI/data/ukbb_9cohorts/connectomes/'\n",
    "\n",
    "cases = ['SZ',\n",
    "        'BIP',\n",
    "        #'ASD',\n",
    "        #'DEL22q11_2',\n",
    "        #'DEL16p11_2',\n",
    "        # 'DUP16p11_2',\n",
    "        # 'DUP22q11_2'\n",
    "        ]\n",
    "data = []\n",
    "for case in cases:\n",
    "    data.append(caseControlDataset(case,p_pheno,p_conn))"
   ]
  },
  {
   "cell_type": "code",
   "execution_count": 3,
   "metadata": {},
   "outputs": [],
   "source": [
    "loss_fns = {}\n",
    "trainloaders = {}\n",
    "testloaders = {}\n",
    "decoders = {}\n",
    "for d, case in zip(data,cases):\n",
    "    train_d, test_d = split_data(d)\n",
    "\n",
    "    trainloaders[case] = DataLoader(train_d, batch_size=16, shuffle=True)\n",
    "    testloaders[case] = DataLoader(test_d, batch_size=16, shuffle=True)\n",
    "    loss_fns[case] = nn.CrossEntropyLoss()\n",
    "    decoders[case] = head().double()"
   ]
  },
  {
   "cell_type": "code",
   "execution_count": 4,
   "metadata": {},
   "outputs": [],
   "source": [
    "model = HPSModel(encoder().double(),\n",
    "                decoders,\n",
    "                loss_fns)"
   ]
  },
  {
   "cell_type": "code",
   "execution_count": 5,
   "metadata": {},
   "outputs": [],
   "source": [
    "learning_rate = 1e-3\n",
    "optimizer = torch.optim.Adam(model.parameters(), lr=learning_rate)"
   ]
  },
  {
   "cell_type": "code",
   "execution_count": 6,
   "metadata": {},
   "outputs": [
    {
     "name": "stderr",
     "output_type": "stream",
     "text": [
      "Epoch 0: 100%|██████████| 40/40 [00:01<00:00, 20.67it/s]\n",
      "Epoch 1: 100%|██████████| 40/40 [00:01<00:00, 25.12it/s]\n",
      "Epoch 2: 100%|██████████| 40/40 [00:01<00:00, 23.66it/s]\n",
      "Epoch 3: 100%|██████████| 40/40 [00:01<00:00, 24.67it/s]\n",
      "Epoch 4: 100%|██████████| 40/40 [00:01<00:00, 26.60it/s]\n",
      "Epoch 5: 100%|██████████| 40/40 [00:01<00:00, 26.23it/s]\n",
      "Epoch 6: 100%|██████████| 40/40 [00:01<00:00, 27.49it/s]\n",
      "Epoch 7: 100%|██████████| 40/40 [00:01<00:00, 26.16it/s]\n",
      "Epoch 8: 100%|██████████| 40/40 [00:01<00:00, 26.14it/s]\n",
      "Epoch 9: 100%|██████████| 40/40 [00:01<00:00, 25.04it/s]\n",
      "Epoch 10: 100%|██████████| 40/40 [00:01<00:00, 24.21it/s]\n",
      "Epoch 11: 100%|██████████| 40/40 [00:01<00:00, 26.54it/s]\n",
      "Epoch 12: 100%|██████████| 40/40 [00:01<00:00, 24.73it/s]\n",
      "Epoch 13: 100%|██████████| 40/40 [00:01<00:00, 23.71it/s]\n",
      "Epoch 14: 100%|██████████| 40/40 [00:01<00:00, 26.31it/s]\n",
      "Epoch 15: 100%|██████████| 40/40 [00:01<00:00, 24.66it/s]\n",
      "Epoch 16: 100%|██████████| 40/40 [00:01<00:00, 26.40it/s]\n",
      "Epoch 17: 100%|██████████| 40/40 [00:01<00:00, 24.19it/s]\n",
      "Epoch 18: 100%|██████████| 40/40 [00:01<00:00, 25.78it/s]\n",
      "Epoch 19: 100%|██████████| 40/40 [00:01<00:00, 27.64it/s]\n",
      "Epoch 20: 100%|██████████| 40/40 [00:01<00:00, 22.83it/s]\n",
      "Epoch 21: 100%|██████████| 40/40 [00:01<00:00, 26.82it/s]\n",
      "Epoch 22: 100%|██████████| 40/40 [00:01<00:00, 26.22it/s]\n",
      "Epoch 23: 100%|██████████| 40/40 [00:01<00:00, 22.07it/s]\n",
      "Epoch 24: 100%|██████████| 40/40 [00:01<00:00, 24.80it/s]\n",
      "Epoch 25: 100%|██████████| 40/40 [00:01<00:00, 26.23it/s]\n",
      "Epoch 26: 100%|██████████| 40/40 [00:01<00:00, 21.12it/s]\n",
      "Epoch 27: 100%|██████████| 40/40 [00:01<00:00, 27.65it/s]\n",
      "Epoch 28: 100%|██████████| 40/40 [00:01<00:00, 28.84it/s]\n",
      "Epoch 29: 100%|██████████| 40/40 [00:01<00:00, 23.71it/s]\n",
      "Epoch 30: 100%|██████████| 40/40 [00:01<00:00, 25.88it/s]\n",
      "Epoch 31: 100%|██████████| 40/40 [00:01<00:00, 28.22it/s]\n",
      "Epoch 32: 100%|██████████| 40/40 [00:01<00:00, 23.73it/s]\n",
      "Epoch 33: 100%|██████████| 40/40 [00:01<00:00, 23.41it/s]\n",
      "Epoch 34: 100%|██████████| 40/40 [00:01<00:00, 25.22it/s]\n",
      "Epoch 35: 100%|██████████| 40/40 [00:01<00:00, 23.06it/s]\n",
      "Epoch 36: 100%|██████████| 40/40 [00:01<00:00, 25.38it/s]\n",
      "Epoch 37: 100%|██████████| 40/40 [00:01<00:00, 23.21it/s]\n",
      "Epoch 38: 100%|██████████| 40/40 [00:01<00:00, 24.62it/s]\n",
      "Epoch 39: 100%|██████████| 40/40 [00:01<00:00, 24.25it/s]\n",
      "Epoch 40: 100%|██████████| 40/40 [00:01<00:00, 20.56it/s]\n",
      "Epoch 41: 100%|██████████| 40/40 [00:01<00:00, 22.35it/s]\n",
      "Epoch 42: 100%|██████████| 40/40 [00:01<00:00, 21.41it/s]\n",
      "Epoch 43: 100%|██████████| 40/40 [00:01<00:00, 21.96it/s]\n",
      "Epoch 44: 100%|██████████| 40/40 [00:01<00:00, 22.77it/s]\n",
      "Epoch 45: 100%|██████████| 40/40 [00:02<00:00, 19.21it/s]\n",
      "Epoch 46: 100%|██████████| 40/40 [00:01<00:00, 23.76it/s]\n",
      "Epoch 47: 100%|██████████| 40/40 [00:01<00:00, 20.32it/s]\n",
      "Epoch 48: 100%|██████████| 40/40 [00:01<00:00, 23.24it/s]\n",
      "Epoch 49: 100%|██████████| 40/40 [00:02<00:00, 19.85it/s]\n"
     ]
    }
   ],
   "source": [
    "trainer = Trainer(optimizer,50)\n",
    "\n",
    "trainer.fit(model,trainloaders,testloaders)"
   ]
  },
  {
   "cell_type": "code",
   "execution_count": 24,
   "metadata": {},
   "outputs": [
    {
     "name": "stdout",
     "output_type": "stream",
     "text": [
      "SZ\n",
      "Accuracy:  46.875\n",
      "Test loss:  0.04415733229872337\n",
      "\n",
      "BIP\n",
      "Accuracy:  53.125\n",
      "Test loss:  0.043829105474226276\n",
      "\n"
     ]
    }
   ],
   "source": [
    "#TODO THIS IS BROKEN OBVY WANT A STABLE ANSWER\n",
    "\n",
    "metrics = model.score(testloaders)\n",
    "for key in metrics.keys():\n",
    "    print(key)\n",
    "    print('Accuracy: ', metrics[key]['accuracy'])\n",
    "    print('Test loss: ', metrics[key]['test_loss'])\n",
    "    print()"
   ]
  },
  {
   "cell_type": "code",
   "execution_count": null,
   "metadata": {},
   "outputs": [],
   "source": []
  }
 ],
 "metadata": {
  "interpreter": {
   "hash": "9e9c9c5c044d2ea5dfa7d6bd44b9f426810f06c0ed392c2b436f27e01061f47c"
  },
  "kernelspec": {
   "display_name": "Python 3.7.12 ('MTL')",
   "language": "python",
   "name": "python3"
  },
  "language_info": {
   "codemirror_mode": {
    "name": "ipython",
    "version": 3
   },
   "file_extension": ".py",
   "mimetype": "text/x-python",
   "name": "python",
   "nbconvert_exporter": "python",
   "pygments_lexer": "ipython3",
   "version": "3.7.12"
  },
  "orig_nbformat": 4
 },
 "nbformat": 4,
 "nbformat_minor": 2
}
