{
 "cells": [
  {
   "cell_type": "code",
   "execution_count": 21,
   "metadata": {},
   "outputs": [],
   "source": [
    "import os\n",
    "import torch\n",
    "from torch.utils.data import Subset\n",
    "from torch.utils.data import DataLoader\n",
    "\n",
    "from miniMTL.datasets import caseControlDataset\n",
    "from miniMTL.models import *\n",
    "from miniMTL.training import Trainer\n",
    "from miniMTL.mps import MPSModel"
   ]
  },
  {
   "cell_type": "markdown",
   "metadata": {},
   "source": [
    "## Load data"
   ]
  },
  {
   "cell_type": "code",
   "execution_count": 28,
   "metadata": {},
   "outputs": [],
   "source": [
    "p_pheno = '/Users/harveyaa/Documents/masters/data/pheno_26-01-22.csv'\n",
    "p_ids = '/Users/harveyaa/Documents/masters/neuropsych_mtl/datasets/cv_folds/intrasite/'\n",
    "p_conn = os.path.join('/Users/harveyaa/Documents/masters/data/','connectomes')\n",
    "\n",
    "p_out = ''"
   ]
  },
  {
   "cell_type": "code",
   "execution_count": 29,
   "metadata": {},
   "outputs": [
    {
     "name": "stdout",
     "output_type": "stream",
     "text": [
      "Creating datasets...\n",
      "ASD\n"
     ]
    },
    {
     "name": "stderr",
     "output_type": "stream",
     "text": [
      "/Users/harveyaa/Documents/masters/miniMTL/miniMTL/datasets.py:190: DtypeWarning: Columns (7,8,12,13,14,19,20,24,27,31,42,43,44,49,51,59,60,62,64,65,68,101,121,163) have mixed types. Specify dtype option on import or set low_memory=False.\n",
      "  pheno = pd.read_csv(pheno_path,index_col=0)\n"
     ]
    },
    {
     "name": "stdout",
     "output_type": "stream",
     "text": [
      "BIP\n"
     ]
    },
    {
     "name": "stderr",
     "output_type": "stream",
     "text": [
      "/Users/harveyaa/Documents/masters/miniMTL/miniMTL/datasets.py:190: DtypeWarning: Columns (7,8,12,13,14,19,20,24,27,31,42,43,44,49,51,59,60,62,64,65,68,101,121,163) have mixed types. Specify dtype option on import or set low_memory=False.\n",
      "  pheno = pd.read_csv(pheno_path,index_col=0)\n"
     ]
    },
    {
     "name": "stdout",
     "output_type": "stream",
     "text": [
      "SZ\n",
      "Done!\n",
      "\n"
     ]
    },
    {
     "name": "stderr",
     "output_type": "stream",
     "text": [
      "/Users/harveyaa/Documents/masters/miniMTL/miniMTL/datasets.py:190: DtypeWarning: Columns (7,8,12,13,14,19,20,24,27,31,42,43,44,49,51,59,60,62,64,65,68,101,121,163) have mixed types. Specify dtype option on import or set low_memory=False.\n",
      "  pheno = pd.read_csv(pheno_path,index_col=0)\n"
     ]
    }
   ],
   "source": [
    "# Create datasets\n",
    "print('Creating datasets...')\n",
    "cases = ['ASD','BIP','SZ']\n",
    "data = []\n",
    "for case in cases:\n",
    "    print(case)\n",
    "    data.append(caseControlDataset(case,p_pheno,id_path=p_ids,conn_path=p_conn,\n",
    "                                    type='conn',strategy='balanced',format=0))\n",
    "print('Done!\\n')"
   ]
  },
  {
   "cell_type": "code",
   "execution_count": 30,
   "metadata": {},
   "outputs": [],
   "source": [
    "# Split data & create loaders & loss fns\n",
    "bs = 32\n",
    "\n",
    "loss_fns = {}\n",
    "trainloaders = {}\n",
    "testloaders = {}\n",
    "preencoders = {}\n",
    "decoders = {}\n",
    "for d, case in zip(data,cases):\n",
    "    train_idx, test_idx = d.split_data(random=False,fold=0)\n",
    "    train_d = Subset(d,train_idx)\n",
    "    test_d = Subset(d,test_idx)\n",
    "    trainloaders[case] = DataLoader(train_d, batch_size=bs, shuffle=True)\n",
    "    testloaders[case] = DataLoader(test_d, batch_size=bs, shuffle=True)\n",
    "    loss_fns[case] = nn.CrossEntropyLoss()\n",
    "    preencoders[case] = eval(f'preencoder{3}().double()')\n",
    "    decoders[case] = eval(f'head{3}().double()')"
   ]
  },
  {
   "cell_type": "code",
   "execution_count": 31,
   "metadata": {},
   "outputs": [
    {
     "name": "stdout",
     "output_type": "stream",
     "text": [
      "Initialized HPSModel using: cpu.\n",
      "\n"
     ]
    }
   ],
   "source": [
    "# Create model\n",
    "model = MPSModel(preencoders,\n",
    "                eval(f'encoder{33}().double()'),\n",
    "                decoders,\n",
    "                loss_fns)"
   ]
  },
  {
   "cell_type": "code",
   "execution_count": 32,
   "metadata": {},
   "outputs": [],
   "source": [
    "# Create optimizer & trainer\n",
    "optimizer = torch.optim.Adam(model.parameters(), lr=1e-3)\n",
    "trainer = Trainer(optimizer,log_dir=p_out)"
   ]
  },
  {
   "cell_type": "code",
   "execution_count": 33,
   "metadata": {},
   "outputs": [
    {
     "name": "stderr",
     "output_type": "stream",
     "text": [
      "Epoch 0: 100%|██████████| 44/44 [00:03<00:00, 13.50it/s]\n",
      "Epoch 1: 100%|██████████| 44/44 [00:02<00:00, 18.16it/s]\n",
      "Epoch 2: 100%|██████████| 44/44 [00:02<00:00, 18.10it/s]\n",
      "Epoch 3: 100%|██████████| 44/44 [00:02<00:00, 17.89it/s]\n",
      "Epoch 4: 100%|██████████| 44/44 [00:02<00:00, 17.93it/s]\n",
      "Epoch 5: 100%|██████████| 44/44 [00:02<00:00, 18.11it/s]\n",
      "Epoch 6: 100%|██████████| 44/44 [00:02<00:00, 18.08it/s]\n",
      "Epoch 7: 100%|██████████| 44/44 [00:02<00:00, 18.07it/s]\n",
      "Epoch 8: 100%|██████████| 44/44 [00:02<00:00, 18.19it/s]\n",
      "Epoch 9: 100%|██████████| 44/44 [00:02<00:00, 18.07it/s]\n",
      "Epoch 10: 100%|██████████| 44/44 [00:02<00:00, 18.16it/s]\n",
      "Epoch 11: 100%|██████████| 44/44 [00:02<00:00, 18.17it/s]\n",
      "Epoch 12: 100%|██████████| 44/44 [00:02<00:00, 18.20it/s]\n",
      "Epoch 13: 100%|██████████| 44/44 [00:02<00:00, 18.12it/s]\n",
      "Epoch 14: 100%|██████████| 44/44 [00:02<00:00, 18.21it/s]\n",
      "Epoch 15: 100%|██████████| 44/44 [00:02<00:00, 18.11it/s]\n",
      "Epoch 16: 100%|██████████| 44/44 [00:02<00:00, 18.23it/s]\n",
      "Epoch 17: 100%|██████████| 44/44 [00:02<00:00, 18.10it/s]\n",
      "Epoch 18: 100%|██████████| 44/44 [00:02<00:00, 18.24it/s]\n",
      "Epoch 19: 100%|██████████| 44/44 [00:02<00:00, 18.09it/s]\n",
      "Epoch 20: 100%|██████████| 44/44 [00:02<00:00, 18.08it/s]\n",
      "Epoch 21: 100%|██████████| 44/44 [00:02<00:00, 18.10it/s]\n",
      "Epoch 22: 100%|██████████| 44/44 [00:02<00:00, 18.13it/s]\n",
      "Epoch 23: 100%|██████████| 44/44 [00:02<00:00, 18.06it/s]\n",
      "Epoch 24: 100%|██████████| 44/44 [00:02<00:00, 17.88it/s]\n",
      "Epoch 25: 100%|██████████| 44/44 [00:02<00:00, 18.08it/s]\n",
      "Epoch 26: 100%|██████████| 44/44 [00:02<00:00, 18.24it/s]\n",
      "Epoch 27: 100%|██████████| 44/44 [00:02<00:00, 18.04it/s]\n",
      "Epoch 28: 100%|██████████| 44/44 [00:02<00:00, 17.61it/s]\n",
      "Epoch 29: 100%|██████████| 44/44 [00:02<00:00, 16.95it/s]\n",
      "Epoch 30: 100%|██████████| 44/44 [00:02<00:00, 17.58it/s]\n",
      "Epoch 31: 100%|██████████| 44/44 [00:02<00:00, 17.36it/s]\n",
      "Epoch 32: 100%|██████████| 44/44 [00:02<00:00, 16.80it/s]\n",
      "Epoch 33: 100%|██████████| 44/44 [00:02<00:00, 17.44it/s]\n",
      "Epoch 34: 100%|██████████| 44/44 [00:02<00:00, 18.30it/s]\n",
      "Epoch 35: 100%|██████████| 44/44 [00:02<00:00, 17.72it/s]\n",
      "Epoch 36: 100%|██████████| 44/44 [00:02<00:00, 17.97it/s]\n",
      "Epoch 37: 100%|██████████| 44/44 [00:02<00:00, 18.35it/s]\n",
      "Epoch 38: 100%|██████████| 44/44 [00:02<00:00, 17.96it/s]\n",
      "Epoch 39: 100%|██████████| 44/44 [00:02<00:00, 17.83it/s]\n",
      "Epoch 40: 100%|██████████| 44/44 [00:02<00:00, 18.33it/s]\n",
      "Epoch 41: 100%|██████████| 44/44 [00:02<00:00, 18.33it/s]\n",
      "Epoch 42: 100%|██████████| 44/44 [00:02<00:00, 18.14it/s]\n",
      "Epoch 43: 100%|██████████| 44/44 [00:02<00:00, 18.48it/s]\n",
      "Epoch 44: 100%|██████████| 44/44 [00:02<00:00, 17.92it/s]\n",
      "Epoch 45: 100%|██████████| 44/44 [00:02<00:00, 18.19it/s]\n",
      "Epoch 46: 100%|██████████| 44/44 [00:02<00:00, 18.19it/s]\n",
      "Epoch 47: 100%|██████████| 44/44 [00:02<00:00, 17.91it/s]\n",
      "Epoch 48: 100%|██████████| 44/44 [00:02<00:00, 18.24it/s]\n",
      "Epoch 49: 100%|██████████| 44/44 [00:02<00:00, 17.77it/s]\n"
     ]
    }
   ],
   "source": [
    "# Train model\n",
    "trainer.fit(model,trainloaders,testloaders,num_epochs=50)"
   ]
  },
  {
   "cell_type": "code",
   "execution_count": 34,
   "metadata": {},
   "outputs": [
    {
     "name": "stdout",
     "output_type": "stream",
     "text": [
      "\n",
      "ASD\n",
      "Accuracy:  57.14285714285714\n",
      "Loss:  0.02342739164122072\n",
      "\n",
      "BIP\n",
      "Accuracy:  68.75\n",
      "Loss:  0.019178310227088703\n",
      "\n",
      "SZ\n",
      "Accuracy:  58.59375\n",
      "Loss:  0.026285603406605355\n",
      "\n"
     ]
    }
   ],
   "source": [
    "# Evaluate at end\n",
    "metrics = model.score(testloaders)\n",
    "for key in metrics.keys():\n",
    "    print()\n",
    "    print(key)\n",
    "    print('Accuracy: ', metrics[key]['accuracy'])\n",
    "    print('Loss: ', metrics[key]['loss'])\n",
    "print()"
   ]
  },
  {
   "cell_type": "code",
   "execution_count": null,
   "metadata": {},
   "outputs": [],
   "source": []
  }
 ],
 "metadata": {
  "kernelspec": {
   "display_name": "Python 3.9.15 ('fmri')",
   "language": "python",
   "name": "python3"
  },
  "language_info": {
   "codemirror_mode": {
    "name": "ipython",
    "version": 3
   },
   "file_extension": ".py",
   "mimetype": "text/x-python",
   "name": "python",
   "nbconvert_exporter": "python",
   "pygments_lexer": "ipython3",
   "version": "3.9.15"
  },
  "orig_nbformat": 4,
  "vscode": {
   "interpreter": {
    "hash": "7ea07d7e26f64274b859969024e9bc122a0aaa5b386426249452447396636cf1"
   }
  }
 },
 "nbformat": 4,
 "nbformat_minor": 2
}
