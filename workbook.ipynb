{
 "cells": [
  {
   "cell_type": "code",
   "execution_count": 1,
   "metadata": {},
   "outputs": [
    {
     "name": "stderr",
     "output_type": "stream",
     "text": [
      "/home/harveyaa/miniconda3/envs/MTL/lib/python3.6/site-packages/tqdm/auto.py:22: TqdmWarning: IProgress not found. Please update jupyter and ipywidgets. See https://ipywidgets.readthedocs.io/en/stable/user_install.html\n",
      "  from .autonotebook import tqdm as notebook_tqdm\n"
     ]
    }
   ],
   "source": [
    "import os\n",
    "import tempfile\n",
    "import numpy as np\n",
    "import pandas as pd\n",
    "import matplotlib.pyplot as plt\n",
    "import seaborn as sns\n",
    "\n",
    "import torch\n",
    "from torch.utils.data import DataLoader\n",
    "import torch.nn as nn\n",
    "import torch.nn.functional as F\n",
    "from torchsummary import summary\n",
    "\n",
    "from miniMTL.datasets import *\n",
    "from miniMTL.models import *\n",
    "from miniMTL.util import *\n",
    "from miniMTL.training import *\n",
    "from miniMTL.hps import *"
   ]
  },
  {
   "cell_type": "code",
   "execution_count": null,
   "metadata": {},
   "outputs": [],
   "source": [
    "SEED = 123\n",
    "\n",
    "def get_connectome(sub_id,conn_path,format):\n",
    "    conn = np.load(conn_path.format(sub_id))\n",
    "    mask = np.tri(64,dtype=bool)\n",
    "\n",
    "    if format == 0:\n",
    "        return conn[mask]\n",
    "    elif format == 1:\n",
    "        np.random.seed(SEED)\n",
    "        return conn[mask][np.random.permutation(2080)].reshape(40,52)\n",
    "    elif format == 2:\n",
    "        torch.unsqueeze(torch.from_numpy(conn),0)\n",
    "    else:\n",
    "        raise ValueError('Connectome format (int encoded) must be in [0,1,2].')\n",
    "\n",
    "def get_concat(conf,sub_id,conn_path,format):\n",
    "    conn = np.load(conn_path.format(sub_id))\n",
    "    mask = np.tri(64,dtype=bool)\n",
    "    concat = np.concatenate([conn[mask],conf])\n",
    "\n",
    "    if format == 0:\n",
    "        return conn[mask]\n",
    "    elif format == 1:\n",
    "        np.random.seed(SEED)\n",
    "        return np.pad(concat[np.random.permutation(2080+58)],2).reshape(42,51)\n",
    "    else:\n",
    "        raise ValueError('Concatenated conn + conf format (int encoded) must be in [0,1].')\n",
    "\n",
    "class caseControlDataset(Dataset):\n",
    "    def __init__(self,case,pheno_path,id_path=None,conn_path=None,type='concat',strategy='balanced',format=0):\n",
    "        assert type in ['concat','conn','conf']\n",
    "        assert strategy in ['balanced','stratified']\n",
    "        self.name = case\n",
    "        self.type = type\n",
    "        self.strategy = strategy\n",
    "        self.format = format\n",
    "        if conn_path:\n",
    "            self.conn_path = os.path.join(conn_path,'connectome_{}_cambridge64.npy')\n",
    "        pheno = pd.read_csv(pheno_path,index_col=0)\n",
    "\n",
    "        # Select subjects\n",
    "        if self.strategy == 'balanced':\n",
    "            self.ids = pd.read_csv(os.path.join(id_path,f\"{case}.csv\"),index_col=0)\n",
    "            self.idx = self.ids.index\n",
    "        elif self.strategy == 'stratified':\n",
    "            control = 'CON_IPC' if case in ['SZ','BIP','ASD'] else 'non_carriers'\n",
    "            subject_mask = strat_mask(pheno,case,control)\n",
    "            self.idx = pheno[subject_mask].index\n",
    "        \n",
    "        # Get confounds if needed\n",
    "        if self.type != 'conn':\n",
    "            confounds = ['AGE','SEX','SITE','mean_conn', 'FD_scrubbed']\n",
    "            p = pd.get_dummies(pheno[confounds],['SEX','SITE'])\n",
    "            cols = ['AGE','mean_conn', 'FD_scrubbed'] + [c for c in p.columns if 'SEX' in c ] + [c for c in p.columns if 'SITE' in c ]\n",
    "            p = p[p.index.isin(self.idx)]\n",
    "            self.X_conf = p[cols]\n",
    "        \n",
    "        # Get labels\n",
    "        self.Y = pheno.loc[self.idx][case].values.astype(int)\n",
    "\n",
    "        # Cleanup\n",
    "        del pheno\n",
    "        del p\n",
    "\n",
    "    def __len__(self):\n",
    "        return len(self.Y)\n",
    "        \n",
    "    def __getitem__(self,idx):\n",
    "        if self.type == 'conn':\n",
    "            conn = get_connectome(self.idx[idx], self.conn_path,self.format)\n",
    "            return conn, {self.name:self.Y[idx]}\n",
    "        elif self.type == 'conf':\n",
    "            if self.format != 0:\n",
    "                raise Warning('Confound format can only be 0 (vector).')\n",
    "            return self.X_conf.iloc[idx].values, {self.name:self.Y[idx]}\n",
    "        elif self.type == 'concat':\n",
    "            concat = get_concat(self.X_conf.iloc[idx],self.idx[idx], self.conn_path,self.format)\n",
    "            return concat, {self.name:self.Y[idx]}\n",
    "    \n",
    "    def split_data(self,random=True,fold=0,splits=(0.8,0.2),seed=None):\n",
    "        if not random:\n",
    "            if self.strategy != 'balanced':\n",
    "                raise ValueError(\"Balanced CV folds only available for balanced dataset (set strategy to 'balanced').\")\n",
    "            rr = np.array(range(len(self.idx)))\n",
    "            train_idx = rr[self.ids[f\"fold_{fold}\"] == 0]\n",
    "            test_idx = rr[self.ids[f\"fold_{fold}\"] == 1]\n",
    "        else:\n",
    "            train_idx, test_idx, _, _ = train_test_split(range(len(self.idx)),\n",
    "                                                    self.Y,\n",
    "                                                    stratify=self.Y,\n",
    "                                                    test_size=splits[1],\n",
    "                                                    random_state=seed)\n",
    "        return train_idx, test_idx"
   ]
  },
  {
   "cell_type": "markdown",
   "metadata": {},
   "source": [
    "## Load data"
   ]
  },
  {
   "cell_type": "code",
   "execution_count": 22,
   "metadata": {},
   "outputs": [],
   "source": [
    "p_pheno = '/home/harveyaa/Documents/fMRI/data/ukbb_9cohorts/pheno_01-12-21.csv'\n",
    "p_ids = '/home/harveyaa/Documents/masters/neuropsych_mtl/datasets/cv_folds/hybrid'\n",
    "p_conn = '/home/harveyaa/Documents/fMRI/data/ukbb_9cohorts/connectomes/'\n",
    "\n",
    "cases = ['SZ',\n",
    "        #'BIP',\n",
    "        #'ASD',\n",
    "        'DEL22q11_2',\n",
    "        #'DEL16p11_2',\n",
    "        #'DUP16p11_2',\n",
    "        #'DUP22q11_2',\n",
    "        #'DEL1q21_1',\n",
    "        #'DUP1q21_1'\n",
    "        ]"
   ]
  },
  {
   "cell_type": "markdown",
   "metadata": {},
   "source": [
    "# MTL"
   ]
  },
  {
   "cell_type": "code",
   "execution_count": 23,
   "metadata": {},
   "outputs": [
    {
     "name": "stdout",
     "output_type": "stream",
     "text": [
      "Creating datasets...\n",
      "SZ\n"
     ]
    },
    {
     "name": "stderr",
     "output_type": "stream",
     "text": [
      "/home/harveyaa/miniconda3/envs/MTL/lib/python3.6/site-packages/IPython/core/interactiveshell.py:2818: DtypeWarning: Columns (7,8,12,13,14,19,20,24,27,31,42,43,44,49,51,59,60,62,64,65,68,101,121,163) have mixed types.Specify dtype option on import or set low_memory=False.\n",
      "  if self.run_code(code, result):\n"
     ]
    },
    {
     "name": "stdout",
     "output_type": "stream",
     "text": [
      "DEL22q11_2\n",
      "Done!\n",
      "\n"
     ]
    },
    {
     "name": "stderr",
     "output_type": "stream",
     "text": [
      "/home/harveyaa/miniconda3/envs/MTL/lib/python3.6/site-packages/IPython/core/interactiveshell.py:2818: DtypeWarning: Columns (7,8,12,13,14,19,20,24,27,31,42,43,44,49,51,59,60,62,64,65,68,101,121,163) have mixed types.Specify dtype option on import or set low_memory=False.\n",
      "  if self.run_code(code, result):\n"
     ]
    }
   ],
   "source": [
    "# Create datasets\n",
    "print('Creating datasets...')\n",
    "data = []\n",
    "for case in cases:\n",
    "    print(case)\n",
    "    #data.append(balancedCaseControlDataset(case,p_ids,p_conn,format=0))\n",
    "    data.append(concatDataset(case,p_pheno,p_conn,format=0))\n",
    "print('Done!\\n')"
   ]
  },
  {
   "cell_type": "code",
   "execution_count": 24,
   "metadata": {},
   "outputs": [
    {
     "data": {
      "text/plain": [
       "(2138,)"
      ]
     },
     "execution_count": 24,
     "metadata": {},
     "output_type": "execute_result"
    }
   ],
   "source": [
    "X,y_dict = data[0].__getitem__(0)\n",
    "X.shape"
   ]
  },
  {
   "cell_type": "code",
   "execution_count": 25,
   "metadata": {},
   "outputs": [],
   "source": [
    "# BALANCED TEST SETS\n",
    "\n",
    "#batch_size=1\n",
    "#head=3\n",
    "#encoder=3\n",
    "#fold=4\n",
    "#\n",
    "#loss_fns = {}\n",
    "#trainloaders = {}\n",
    "#testloaders = {}\n",
    "#decoders = {}\n",
    "#for d, case in zip(data,cases):\n",
    "#    train_idx, test_idx = d.split_data(fold)\n",
    "#    train_d = Subset(d,train_idx)\n",
    "#    test_d = Subset(d,test_idx)\n",
    "#    trainloaders[case] = DataLoader(train_d, batch_size=batch_size, shuffle=True)\n",
    "#    testloaders[case] = DataLoader(test_d, batch_size=batch_size, shuffle=True)\n",
    "#    loss_fns[case] = nn.CrossEntropyLoss()\n",
    "#    decoders[case] = eval(f'head{head}().double()')"
   ]
  },
  {
   "cell_type": "code",
   "execution_count": 26,
   "metadata": {},
   "outputs": [],
   "source": [
    "# RANDOM TEST SETS\n",
    "\n",
    "batch_size=16\n",
    "head=5\n",
    "encoder=5\n",
    "\n",
    "# Split data & create loaders & loss fns\n",
    "loss_fns = {}\n",
    "trainloaders = {}\n",
    "testloaders = {}\n",
    "decoders = {}\n",
    "for d, case in zip(data,cases):\n",
    "    train_d, test_d = split_data(d)\n",
    "    trainloaders[case] = DataLoader(train_d, batch_size=batch_size, shuffle=True)\n",
    "    testloaders[case] = DataLoader(test_d, batch_size=batch_size, shuffle=True)\n",
    "    loss_fns[case] = nn.CrossEntropyLoss()\n",
    "    decoders[case] = eval(f'head{head}().double()')\n",
    "    #decoders[case] = head3().double()"
   ]
  },
  {
   "cell_type": "code",
   "execution_count": 27,
   "metadata": {},
   "outputs": [
    {
     "name": "stdout",
     "output_type": "stream",
     "text": [
      "Initialized HPSModel using: cpu.\n",
      "\n"
     ]
    }
   ],
   "source": [
    "# Create model\n",
    "model = HPSModel(eval(f'encoder{encoder}().double()'),\n",
    "                decoders,\n",
    "                loss_fns)"
   ]
  },
  {
   "cell_type": "code",
   "execution_count": 28,
   "metadata": {},
   "outputs": [
    {
     "name": "stdout",
     "output_type": "stream",
     "text": [
      "/home/harveyaa/Documents/masters/neuropsych_mtl/tmp\n"
     ]
    }
   ],
   "source": [
    "log_dir = '/home/harveyaa/Documents/masters/neuropsych_mtl/tmp'\n",
    "print(log_dir)"
   ]
  },
  {
   "cell_type": "code",
   "execution_count": 29,
   "metadata": {},
   "outputs": [],
   "source": [
    "num_epochs=100\n",
    "lr = 0.001\n",
    "\n",
    "# Create optimizer & trainer\n",
    "optimizer = torch.optim.Adam(model.parameters(), lr=lr)\n",
    "#scheduler = torch.optim.lr_scheduler.ExponentialLR(optimizer, gamma=0.1)\n",
    "#scheduler = torch.optim.lr_scheduler.StepLR(optimizer, step_size=20, gamma=0.05)\n",
    "\n",
    "#trainer = Trainer(optimizer,lr_scheduler=scheduler,num_epochs=num_epochs,log_dir=log_dir)\n",
    "trainer = Trainer(optimizer,num_epochs=num_epochs,log_dir=log_dir)"
   ]
  },
  {
   "cell_type": "code",
   "execution_count": 30,
   "metadata": {},
   "outputs": [
    {
     "name": "stderr",
     "output_type": "stream",
     "text": [
      "Epoch 0: 100%|██████████| 34/34 [00:03<00:00, 10.16it/s]\n",
      "Epoch 1: 100%|██████████| 34/34 [00:03<00:00, 10.58it/s]\n",
      "Epoch 2: 100%|██████████| 34/34 [00:03<00:00, 10.43it/s]\n",
      "Epoch 3: 100%|██████████| 34/34 [00:03<00:00,  8.95it/s]\n",
      "Epoch 4: 100%|██████████| 34/34 [00:04<00:00,  7.93it/s]\n",
      "Epoch 5: 100%|██████████| 34/34 [00:04<00:00,  7.54it/s]\n",
      "Epoch 6: 100%|██████████| 34/34 [00:04<00:00,  8.28it/s]\n",
      "Epoch 7: 100%|██████████| 34/34 [00:04<00:00,  8.16it/s]\n",
      "Epoch 8: 100%|██████████| 34/34 [00:04<00:00,  7.65it/s]\n",
      "Epoch 9: 100%|██████████| 34/34 [00:04<00:00,  8.44it/s]\n",
      "Epoch 10: 100%|██████████| 34/34 [00:04<00:00,  8.11it/s]\n",
      "Epoch 11: 100%|██████████| 34/34 [00:04<00:00,  7.87it/s]\n",
      "Epoch 12: 100%|██████████| 34/34 [00:04<00:00,  7.90it/s]\n",
      "Epoch 13: 100%|██████████| 34/34 [00:04<00:00,  8.01it/s]\n",
      "Epoch 14: 100%|██████████| 34/34 [00:04<00:00,  7.52it/s]\n",
      "Epoch 15: 100%|██████████| 34/34 [00:04<00:00,  8.06it/s]\n",
      "Epoch 16: 100%|██████████| 34/34 [00:04<00:00,  7.95it/s]\n",
      "Epoch 17: 100%|██████████| 34/34 [00:04<00:00,  8.19it/s]\n",
      "Epoch 18: 100%|██████████| 34/34 [00:04<00:00,  7.78it/s]\n",
      "Epoch 19: 100%|██████████| 34/34 [00:04<00:00,  8.13it/s]\n",
      "Epoch 20: 100%|██████████| 34/34 [00:03<00:00,  8.82it/s]\n",
      "Epoch 21: 100%|██████████| 34/34 [00:04<00:00,  8.12it/s]\n",
      "Epoch 22: 100%|██████████| 34/34 [00:04<00:00,  7.83it/s]\n",
      "Epoch 23: 100%|██████████| 34/34 [00:04<00:00,  8.08it/s]\n",
      "Epoch 24: 100%|██████████| 34/34 [00:04<00:00,  8.14it/s]\n",
      "Epoch 25: 100%|██████████| 34/34 [00:04<00:00,  8.20it/s]\n",
      "Epoch 26: 100%|██████████| 34/34 [00:04<00:00,  8.49it/s]\n",
      "Epoch 27: 100%|██████████| 34/34 [00:04<00:00,  7.59it/s]\n",
      "Epoch 28: 100%|██████████| 34/34 [00:04<00:00,  8.05it/s]\n",
      "Epoch 29: 100%|██████████| 34/34 [00:04<00:00,  7.73it/s]\n",
      "Epoch 30: 100%|██████████| 34/34 [00:04<00:00,  8.06it/s]\n",
      "Epoch 31: 100%|██████████| 34/34 [00:04<00:00,  8.35it/s]\n",
      "Epoch 32: 100%|██████████| 34/34 [00:04<00:00,  8.40it/s]\n",
      "Epoch 33: 100%|██████████| 34/34 [00:04<00:00,  8.05it/s]\n",
      "Epoch 34: 100%|██████████| 34/34 [00:03<00:00,  8.59it/s]\n",
      "Epoch 35: 100%|██████████| 34/34 [00:03<00:00,  8.80it/s]\n",
      "Epoch 36: 100%|██████████| 34/34 [00:03<00:00,  8.60it/s]\n",
      "Epoch 37: 100%|██████████| 34/34 [00:03<00:00,  8.59it/s]\n",
      "Epoch 38: 100%|██████████| 34/34 [00:03<00:00,  8.99it/s]\n",
      "Epoch 39: 100%|██████████| 34/34 [00:03<00:00,  9.15it/s]\n",
      "Epoch 40: 100%|██████████| 34/34 [00:03<00:00,  8.91it/s]\n",
      "Epoch 41: 100%|██████████| 34/34 [00:03<00:00,  8.83it/s]\n",
      "Epoch 42: 100%|██████████| 34/34 [00:03<00:00,  8.72it/s]\n",
      "Epoch 43: 100%|██████████| 34/34 [00:03<00:00,  8.97it/s]\n",
      "Epoch 44: 100%|██████████| 34/34 [00:04<00:00,  8.44it/s]\n",
      "Epoch 45: 100%|██████████| 34/34 [00:03<00:00,  8.83it/s]\n",
      "Epoch 46: 100%|██████████| 34/34 [00:03<00:00,  8.84it/s]\n",
      "Epoch 47: 100%|██████████| 34/34 [00:03<00:00,  8.93it/s]\n",
      "Epoch 48: 100%|██████████| 34/34 [00:03<00:00,  8.88it/s]\n",
      "Epoch 49: 100%|██████████| 34/34 [00:03<00:00,  8.58it/s]\n",
      "Epoch 50: 100%|██████████| 34/34 [00:04<00:00,  8.34it/s]\n",
      "Epoch 51: 100%|██████████| 34/34 [00:04<00:00,  8.00it/s]\n",
      "Epoch 52: 100%|██████████| 34/34 [00:04<00:00,  7.50it/s]\n",
      "Epoch 53: 100%|██████████| 34/34 [00:04<00:00,  7.92it/s]\n",
      "Epoch 54: 100%|██████████| 34/34 [00:03<00:00,  8.66it/s]\n",
      "Epoch 55: 100%|██████████| 34/34 [00:03<00:00,  8.73it/s]\n",
      "Epoch 56: 100%|██████████| 34/34 [00:03<00:00,  8.71it/s]\n",
      "Epoch 57: 100%|██████████| 34/34 [00:03<00:00,  9.14it/s]\n",
      "Epoch 58: 100%|██████████| 34/34 [00:03<00:00,  8.59it/s]\n",
      "Epoch 59: 100%|██████████| 34/34 [00:04<00:00,  8.20it/s]\n",
      "Epoch 60: 100%|██████████| 34/34 [00:03<00:00,  8.80it/s]\n",
      "Epoch 61: 100%|██████████| 34/34 [00:03<00:00,  8.78it/s]\n",
      "Epoch 62: 100%|██████████| 34/34 [00:03<00:00,  8.94it/s]\n",
      "Epoch 63: 100%|██████████| 34/34 [00:03<00:00,  8.61it/s]\n",
      "Epoch 64: 100%|██████████| 34/34 [00:04<00:00,  8.11it/s]\n",
      "Epoch 65: 100%|██████████| 34/34 [00:04<00:00,  7.70it/s]\n",
      "Epoch 66: 100%|██████████| 34/34 [00:04<00:00,  8.32it/s]\n",
      "Epoch 67: 100%|██████████| 34/34 [00:04<00:00,  7.76it/s]\n",
      "Epoch 68: 100%|██████████| 34/34 [00:04<00:00,  8.45it/s]\n",
      "Epoch 69: 100%|██████████| 34/34 [00:04<00:00,  7.75it/s]\n",
      "Epoch 70: 100%|██████████| 34/34 [00:04<00:00,  7.77it/s]\n",
      "Epoch 71: 100%|██████████| 34/34 [00:04<00:00,  8.33it/s]\n",
      "Epoch 72: 100%|██████████| 34/34 [00:03<00:00,  8.55it/s]\n",
      "Epoch 73: 100%|██████████| 34/34 [00:04<00:00,  8.47it/s]\n",
      "Epoch 74: 100%|██████████| 34/34 [00:04<00:00,  8.36it/s]\n",
      "Epoch 75: 100%|██████████| 34/34 [00:04<00:00,  7.83it/s]\n",
      "Epoch 76: 100%|██████████| 34/34 [00:04<00:00,  8.13it/s]\n",
      "Epoch 77: 100%|██████████| 34/34 [00:04<00:00,  8.16it/s]\n",
      "Epoch 78: 100%|██████████| 34/34 [00:04<00:00,  7.94it/s]\n",
      "Epoch 79: 100%|██████████| 34/34 [00:04<00:00,  7.73it/s]\n",
      "Epoch 80: 100%|██████████| 34/34 [00:04<00:00,  7.76it/s]\n",
      "Epoch 81: 100%|██████████| 34/34 [00:03<00:00,  8.53it/s]\n",
      "Epoch 82: 100%|██████████| 34/34 [00:03<00:00,  8.65it/s]\n",
      "Epoch 83: 100%|██████████| 34/34 [00:03<00:00,  8.72it/s]\n",
      "Epoch 84: 100%|██████████| 34/34 [00:03<00:00,  8.61it/s]\n",
      "Epoch 85: 100%|██████████| 34/34 [00:03<00:00,  8.56it/s]\n",
      "Epoch 86: 100%|██████████| 34/34 [00:03<00:00,  8.81it/s]\n",
      "Epoch 87: 100%|██████████| 34/34 [00:03<00:00,  8.88it/s]\n",
      "Epoch 88: 100%|██████████| 34/34 [00:04<00:00,  8.37it/s]\n",
      "Epoch 89: 100%|██████████| 34/34 [00:03<00:00,  8.62it/s]\n",
      "Epoch 90: 100%|██████████| 34/34 [00:03<00:00,  8.69it/s]\n",
      "Epoch 91: 100%|██████████| 34/34 [00:03<00:00,  9.07it/s]\n",
      "Epoch 92: 100%|██████████| 34/34 [00:03<00:00,  8.78it/s]\n",
      "Epoch 93: 100%|██████████| 34/34 [00:04<00:00,  8.37it/s]\n",
      "Epoch 94: 100%|██████████| 34/34 [00:03<00:00,  8.66it/s]\n",
      "Epoch 95: 100%|██████████| 34/34 [00:03<00:00,  9.03it/s]\n",
      "Epoch 96: 100%|██████████| 34/34 [00:03<00:00,  8.64it/s]\n",
      "Epoch 97: 100%|██████████| 34/34 [00:03<00:00,  8.69it/s]\n",
      "Epoch 98: 100%|██████████| 34/34 [00:03<00:00,  8.68it/s]\n",
      "Epoch 99: 100%|██████████| 34/34 [00:03<00:00,  8.81it/s]\n"
     ]
    }
   ],
   "source": [
    "# Train model\n",
    "trainer.fit(model,trainloaders,testloaders)"
   ]
  },
  {
   "cell_type": "code",
   "execution_count": 11,
   "metadata": {},
   "outputs": [
    {
     "name": "stdout",
     "output_type": "stream",
     "text": [
      "\n",
      "SZ\n",
      "Accuracy:  53.98230088495575\n",
      "Loss:  0.05245458040815248\n",
      "\n"
     ]
    }
   ],
   "source": [
    "# BALANCED\n",
    "# SZ 51.59\n",
    "# BIP 50.0\n",
    "# ASD 47.3\n",
    "\n",
    "# RANDOM\n",
    "# SZ 58.59\n",
    "# BIP 71.875\n",
    "# ASD 49.74\n",
    "\n",
    "# Evaluate at end\n",
    "metrics = model.score(testloaders)\n",
    "for key in metrics.keys():\n",
    "    print()\n",
    "    print(key)\n",
    "    print('Accuracy: ', metrics[key]['accuracy'])\n",
    "    print('Loss: ', metrics[key]['loss'])\n",
    "print()"
   ]
  },
  {
   "cell_type": "code",
   "execution_count": 23,
   "metadata": {},
   "outputs": [
    {
     "data": {
      "text/plain": [
       "(2142,)"
      ]
     },
     "execution_count": 23,
     "metadata": {},
     "output_type": "execute_result"
    }
   ],
   "source": [
    "np.pad(np.random.randn((2080+58)),2).shape"
   ]
  },
  {
   "cell_type": "code",
   "execution_count": null,
   "metadata": {},
   "outputs": [],
   "source": []
  }
 ],
 "metadata": {
  "interpreter": {
   "hash": "9e9c9c5c044d2ea5dfa7d6bd44b9f426810f06c0ed392c2b436f27e01061f47c"
  },
  "kernelspec": {
   "display_name": "Python 3.7.12 ('MTL')",
   "language": "python",
   "name": "python3"
  },
  "language_info": {
   "codemirror_mode": {
    "name": "ipython",
    "version": 3
   },
   "file_extension": ".py",
   "mimetype": "text/x-python",
   "name": "python",
   "nbconvert_exporter": "python",
   "pygments_lexer": "ipython3",
   "version": "3.6.15"
  },
  "orig_nbformat": 4
 },
 "nbformat": 4,
 "nbformat_minor": 2
}
