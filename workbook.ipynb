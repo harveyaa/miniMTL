{
 "cells": [
  {
   "cell_type": "code",
   "execution_count": 8,
   "metadata": {},
   "outputs": [],
   "source": [
    "import os\n",
    "import torch\n",
    "from torch.utils.data import Subset\n",
    "from torch.utils.data import DataLoader\n",
    "\n",
    "from miniMTL.datasets import caseControlDataset\n",
    "from miniMTL.models import *\n",
    "from miniMTL.training import Trainer\n",
    "from miniMTL.mps import MPSModel"
   ]
  },
  {
   "cell_type": "markdown",
   "metadata": {},
   "source": [
    "## Load data"
   ]
  },
  {
   "cell_type": "code",
   "execution_count": 9,
   "metadata": {},
   "outputs": [],
   "source": [
    "p_pheno = '/Users/harveyaa/Documents/masters/data/pheno_26-01-22.csv'\n",
    "p_ids = '/Users/harveyaa/Documents/masters/neuropsych_mtl/datasets/cv_folds/intrasite/'\n",
    "p_conn = os.path.join('/Users/harveyaa/Documents/masters/data/','connectomes')\n",
    "\n",
    "p_out = ''"
   ]
  },
  {
   "cell_type": "code",
   "execution_count": 10,
   "metadata": {},
   "outputs": [
    {
     "name": "stdout",
     "output_type": "stream",
     "text": [
      "Creating datasets...\n",
      "ASD\n"
     ]
    },
    {
     "name": "stderr",
     "output_type": "stream",
     "text": [
      "/Users/harveyaa/Documents/masters/miniMTL/miniMTL/datasets.py:190: DtypeWarning: Columns (7,8,12,13,14,19,20,24,27,31,42,43,44,49,51,59,60,62,64,65,68,101,121,163) have mixed types. Specify dtype option on import or set low_memory=False.\n",
      "  pheno = pd.read_csv(pheno_path,index_col=0)\n"
     ]
    },
    {
     "name": "stdout",
     "output_type": "stream",
     "text": [
      "BIP\n"
     ]
    },
    {
     "name": "stderr",
     "output_type": "stream",
     "text": [
      "/Users/harveyaa/Documents/masters/miniMTL/miniMTL/datasets.py:190: DtypeWarning: Columns (7,8,12,13,14,19,20,24,27,31,42,43,44,49,51,59,60,62,64,65,68,101,121,163) have mixed types. Specify dtype option on import or set low_memory=False.\n",
      "  pheno = pd.read_csv(pheno_path,index_col=0)\n"
     ]
    },
    {
     "name": "stdout",
     "output_type": "stream",
     "text": [
      "SZ\n",
      "Done!\n",
      "\n"
     ]
    },
    {
     "name": "stderr",
     "output_type": "stream",
     "text": [
      "/Users/harveyaa/Documents/masters/miniMTL/miniMTL/datasets.py:190: DtypeWarning: Columns (7,8,12,13,14,19,20,24,27,31,42,43,44,49,51,59,60,62,64,65,68,101,121,163) have mixed types. Specify dtype option on import or set low_memory=False.\n",
      "  pheno = pd.read_csv(pheno_path,index_col=0)\n"
     ]
    }
   ],
   "source": [
    "# Create datasets\n",
    "print('Creating datasets...')\n",
    "#cases = ['ASD','BIP','SZ','DEL22q11_2','DUP22q11_2','DEL1q21_1','DUP1q21_1','DEL16p11_2','DUP16p11_2']\n",
    "cases = ['ASD','BIP','SZ']\n",
    "data = []\n",
    "for case in cases:\n",
    "    print(case)\n",
    "    data.append(caseControlDataset(case,p_pheno,id_path=p_ids,conn_path=p_conn,\n",
    "                                    type='conn',strategy='balanced',format=0))\n",
    "print('Done!\\n')"
   ]
  },
  {
   "cell_type": "code",
   "execution_count": 11,
   "metadata": {},
   "outputs": [],
   "source": [
    "# Split data & create loaders & loss fns\n",
    "bs = 16\n",
    "\n",
    "loss_fns = {}\n",
    "trainloaders = {}\n",
    "testloaders = {}\n",
    "preencoders = {}\n",
    "decoders = {}\n",
    "for d, case in zip(data,cases):\n",
    "    train_idx, test_idx = d.split_data(random=False,fold=0)\n",
    "    train_d = Subset(d,train_idx)\n",
    "    test_d = Subset(d,test_idx)\n",
    "    trainloaders[case] = DataLoader(train_d, batch_size=bs, shuffle=True)\n",
    "    testloaders[case] = DataLoader(test_d, batch_size=bs, shuffle=True)\n",
    "    loss_fns[case] = nn.CrossEntropyLoss()\n",
    "    preencoders[case] = eval(f'preencoder{333}().double()')\n",
    "    decoders[case] = eval(f'head{3}().double()')"
   ]
  },
  {
   "cell_type": "code",
   "execution_count": 12,
   "metadata": {},
   "outputs": [
    {
     "name": "stdout",
     "output_type": "stream",
     "text": [
      "Initialized MPSModel using: cpu.\n",
      "\n"
     ]
    }
   ],
   "source": [
    "# Create model\n",
    "model = MPSModel(preencoders,\n",
    "                eval(f'encoder{333}().double()'),\n",
    "                decoders,\n",
    "                loss_fns)"
   ]
  },
  {
   "cell_type": "code",
   "execution_count": 13,
   "metadata": {},
   "outputs": [],
   "source": [
    "# Create optimizer & trainer\n",
    "optimizer = torch.optim.Adam(model.parameters(), lr=1e-3)\n",
    "trainer = Trainer(optimizer,log_dir=p_out)"
   ]
  },
  {
   "cell_type": "code",
   "execution_count": 14,
   "metadata": {},
   "outputs": [
    {
     "name": "stderr",
     "output_type": "stream",
     "text": [
      "Epoch 0: 100%|██████████| 88/88 [00:06<00:00, 14.21it/s]\n",
      "Epoch 1: 100%|██████████| 88/88 [00:06<00:00, 14.35it/s]\n",
      "Epoch 2: 100%|██████████| 88/88 [00:06<00:00, 14.35it/s]\n",
      "Epoch 3: 100%|██████████| 88/88 [00:05<00:00, 14.87it/s]\n",
      "Epoch 4: 100%|██████████| 88/88 [00:05<00:00, 14.89it/s]\n",
      "Epoch 5: 100%|██████████| 88/88 [00:05<00:00, 14.91it/s]\n",
      "Epoch 6: 100%|██████████| 88/88 [00:05<00:00, 14.86it/s]\n",
      "Epoch 7: 100%|██████████| 88/88 [00:06<00:00, 14.23it/s]\n",
      "Epoch 8: 100%|██████████| 88/88 [00:06<00:00, 14.33it/s]\n",
      "Epoch 9: 100%|██████████| 88/88 [00:05<00:00, 14.86it/s]\n",
      "Epoch 10: 100%|██████████| 88/88 [00:06<00:00, 14.55it/s]\n",
      "Epoch 11: 100%|██████████| 88/88 [00:06<00:00, 14.48it/s]\n",
      "Epoch 12: 100%|██████████| 88/88 [00:06<00:00, 14.46it/s]\n",
      "Epoch 13: 100%|██████████| 88/88 [00:06<00:00, 14.04it/s]\n",
      "Epoch 14: 100%|██████████| 88/88 [00:06<00:00, 14.40it/s]\n",
      "Epoch 15: 100%|██████████| 88/88 [00:06<00:00, 14.53it/s]\n",
      "Epoch 16: 100%|██████████| 88/88 [00:05<00:00, 14.86it/s]\n",
      "Epoch 17: 100%|██████████| 88/88 [00:05<00:00, 14.88it/s]\n",
      "Epoch 18: 100%|██████████| 88/88 [00:05<00:00, 14.87it/s]\n",
      "Epoch 19: 100%|██████████| 88/88 [00:06<00:00, 14.50it/s]\n",
      "Epoch 20: 100%|██████████| 88/88 [00:06<00:00, 14.25it/s]\n",
      "Epoch 21: 100%|██████████| 88/88 [00:05<00:00, 14.74it/s]\n",
      "Epoch 22: 100%|██████████| 88/88 [00:05<00:00, 14.69it/s]\n",
      "Epoch 23: 100%|██████████| 88/88 [00:05<00:00, 14.86it/s]\n",
      "Epoch 24: 100%|██████████| 88/88 [00:05<00:00, 14.90it/s]\n",
      "Epoch 25: 100%|██████████| 88/88 [00:05<00:00, 14.75it/s]\n",
      "Epoch 26: 100%|██████████| 88/88 [00:05<00:00, 14.81it/s]\n",
      "Epoch 27: 100%|██████████| 88/88 [00:05<00:00, 14.86it/s]\n",
      "Epoch 28: 100%|██████████| 88/88 [00:05<00:00, 14.88it/s]\n",
      "Epoch 29: 100%|██████████| 88/88 [00:05<00:00, 14.82it/s]\n",
      "Epoch 30: 100%|██████████| 88/88 [00:06<00:00, 14.06it/s]\n",
      "Epoch 31: 100%|██████████| 88/88 [00:06<00:00, 14.31it/s]\n",
      "Epoch 32: 100%|██████████| 88/88 [00:06<00:00, 14.30it/s]\n",
      "Epoch 33: 100%|██████████| 88/88 [00:06<00:00, 14.39it/s]\n",
      "Epoch 34: 100%|██████████| 88/88 [00:06<00:00, 14.35it/s]\n",
      "Epoch 35: 100%|██████████| 88/88 [00:06<00:00, 14.32it/s]\n",
      "Epoch 36: 100%|██████████| 88/88 [00:06<00:00, 14.42it/s]\n",
      "Epoch 37: 100%|██████████| 88/88 [00:06<00:00, 14.46it/s]\n",
      "Epoch 38: 100%|██████████| 88/88 [00:06<00:00, 14.50it/s]\n",
      "Epoch 39: 100%|██████████| 88/88 [00:06<00:00, 14.54it/s]\n",
      "Epoch 40: 100%|██████████| 88/88 [00:06<00:00, 14.49it/s]\n",
      "Epoch 41: 100%|██████████| 88/88 [00:06<00:00, 14.42it/s]\n",
      "Epoch 42: 100%|██████████| 88/88 [00:06<00:00, 14.14it/s]\n",
      "Epoch 43: 100%|██████████| 88/88 [00:06<00:00, 14.36it/s]\n",
      "Epoch 44: 100%|██████████| 88/88 [00:06<00:00, 14.54it/s]\n",
      "Epoch 45: 100%|██████████| 88/88 [00:06<00:00, 14.37it/s]\n",
      "Epoch 46: 100%|██████████| 88/88 [00:06<00:00, 14.35it/s]\n",
      "Epoch 47: 100%|██████████| 88/88 [00:06<00:00, 14.62it/s]\n",
      "Epoch 48: 100%|██████████| 88/88 [00:06<00:00, 14.56it/s]\n",
      "Epoch 49: 100%|██████████| 88/88 [00:06<00:00, 14.43it/s]\n"
     ]
    }
   ],
   "source": [
    "# Train model\n",
    "trainer.fit(model,trainloaders,testloaders,num_epochs=50)"
   ]
  },
  {
   "cell_type": "code",
   "execution_count": 15,
   "metadata": {},
   "outputs": [
    {
     "name": "stdout",
     "output_type": "stream",
     "text": [
      "\n",
      "ASD\n",
      "Accuracy:  57.67195767195767\n",
      "Loss:  0.04755719376702714\n",
      "\n",
      "BIP\n",
      "Accuracy:  62.5\n",
      "Loss:  0.0713935872342194\n",
      "\n",
      "SZ\n",
      "Accuracy:  64.0625\n",
      "Loss:  0.051913752523113484\n",
      "\n"
     ]
    }
   ],
   "source": [
    "# Evaluate at end\n",
    "metrics = model.score(testloaders)\n",
    "for key in metrics.keys():\n",
    "    print()\n",
    "    print(key)\n",
    "    print('Accuracy: ', metrics[key]['accuracy'])\n",
    "    print('Loss: ', metrics[key]['loss'])\n",
    "print()"
   ]
  },
  {
   "cell_type": "code",
   "execution_count": null,
   "metadata": {},
   "outputs": [],
   "source": []
  }
 ],
 "metadata": {
  "kernelspec": {
   "display_name": "Python 3.9.15 ('fmri')",
   "language": "python",
   "name": "python3"
  },
  "language_info": {
   "codemirror_mode": {
    "name": "ipython",
    "version": 3
   },
   "file_extension": ".py",
   "mimetype": "text/x-python",
   "name": "python",
   "nbconvert_exporter": "python",
   "pygments_lexer": "ipython3",
   "version": "3.9.15"
  },
  "orig_nbformat": 4,
  "vscode": {
   "interpreter": {
    "hash": "7ea07d7e26f64274b859969024e9bc122a0aaa5b386426249452447396636cf1"
   }
  }
 },
 "nbformat": 4,
 "nbformat_minor": 2
}
