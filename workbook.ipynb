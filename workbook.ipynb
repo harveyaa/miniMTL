{
 "cells": [
  {
   "cell_type": "code",
   "execution_count": 1,
   "metadata": {},
   "outputs": [
    {
     "name": "stderr",
     "output_type": "stream",
     "text": [
      "/home/harveyaa/miniconda3/envs/MTL/lib/python3.6/site-packages/tqdm/auto.py:22: TqdmWarning: IProgress not found. Please update jupyter and ipywidgets. See https://ipywidgets.readthedocs.io/en/stable/user_install.html\n",
      "  from .autonotebook import tqdm as notebook_tqdm\n"
     ]
    }
   ],
   "source": [
    "import os\n",
    "import tempfile\n",
    "import numpy as np\n",
    "import pandas as pd\n",
    "import matplotlib.pyplot as plt\n",
    "import seaborn as sns\n",
    "\n",
    "import torch\n",
    "from torch.utils.data import DataLoader\n",
    "import torch.nn as nn\n",
    "import torch.nn.functional as F\n",
    "from torchsummary import summary\n",
    "\n",
    "from miniMTL.datasets import *\n",
    "#from miniMTL.models import *\n",
    "from miniMTL.util import *\n",
    "from miniMTL.training import *\n",
    "from miniMTL.hps import *"
   ]
  },
  {
   "cell_type": "code",
   "execution_count": 2,
   "metadata": {},
   "outputs": [],
   "source": [
    "class encoder3(nn.Module):\n",
    "    \"\"\" Simple MLP for connectome 2080 vec.\"\"\"\n",
    "    def __init__(self):\n",
    "        super().__init__()\n",
    "        # in_channels, out_channels\n",
    "        self.fc1 = nn.Linear(2080,64)\n",
    "        self.batch1 = nn.BatchNorm1d(128)\n",
    "        self.fc2 = nn.Linear(128, 16)\n",
    "        self.batch2 = nn.BatchNorm1d(16)\n",
    "\n",
    "        self.dropout = nn.Dropout()\n",
    "        self.leaky = nn.LeakyReLU()\n",
    "    \n",
    "    def forward(self,x):\n",
    "        #x = self.dropout(self.leaky(self.fc1(x)))\n",
    "        x = self.fc1(x)\n",
    "        #x = self.batch1(x)\n",
    "        #x = self.dropout(self.leaky(self.fc2(x)))\n",
    "        #x = self.batch2(x)\n",
    "        return x\n",
    "\n",
    "\n",
    "class head3(nn.Module):\n",
    "    def __init__(self):\n",
    "        super().__init__()\n",
    "        self.fc3 = nn.Linear(64,2)\n",
    "        #self.batch3 = nn.BatchNorm1d(8)\n",
    "        #self.fc4 = nn.Linear(8,2)\n",
    "\n",
    "        self.dropout = nn.Dropout()\n",
    "        self.leaky = nn.LeakyReLU()\n",
    "    \n",
    "    def forward(self,x):\n",
    "        #x = self.dropout(self.leaky(self.fc3(x)))\n",
    "        x = self.fc3(x)\n",
    "        #x = self.batch3(x)\n",
    "        #x = self.dropout(self.leaky(self.fc4(x)))\n",
    "        return x"
   ]
  },
  {
   "cell_type": "markdown",
   "metadata": {},
   "source": [
    "## Load data"
   ]
  },
  {
   "cell_type": "code",
   "execution_count": 3,
   "metadata": {},
   "outputs": [],
   "source": [
    "p_pheno = '/home/harveyaa/Documents/fMRI/data/ukbb_9cohorts/pheno_01-12-21.csv'\n",
    "p_ids = '/home/harveyaa/Documents/masters/neuropsych_mtl/datasets/cv_folds/hybrid'\n",
    "p_conn = '/home/harveyaa/Documents/fMRI/data/ukbb_9cohorts/connectomes/'\n",
    "\n",
    "cases = [#'SZ',\n",
    "        #'BIP',\n",
    "        #'ASD',\n",
    "        'DEL22q11_2',\n",
    "        #'DEL16p11_2',\n",
    "        #'DUP16p11_2',\n",
    "        #'DUP22q11_2',\n",
    "        #'DEL1q21_1',\n",
    "        #'DUP1q21_1'\n",
    "        ]"
   ]
  },
  {
   "cell_type": "markdown",
   "metadata": {},
   "source": [
    "# Investigate 22q"
   ]
  },
  {
   "cell_type": "code",
   "execution_count": 68,
   "metadata": {},
   "outputs": [],
   "source": [
    "conn = pd.read_csv('/home/harveyaa/Documents/fMRI/data/ukbb_9cohorts/connectomes_01-12-21.csv',index_col=0)"
   ]
  },
  {
   "cell_type": "code",
   "execution_count": 73,
   "metadata": {},
   "outputs": [],
   "source": [
    "df_22q = pd.read_csv(os.path.join(p_ids,'DEL22q11_2.csv'),index_col=0)"
   ]
  },
  {
   "cell_type": "code",
   "execution_count": 75,
   "metadata": {},
   "outputs": [],
   "source": [
    "conn = conn[conn.index.isin(df_22q.index)]"
   ]
  },
  {
   "cell_type": "code",
   "execution_count": 99,
   "metadata": {},
   "outputs": [
    {
     "name": "stdout",
     "output_type": "stream",
     "text": [
      "(58, 2080)\n",
      "(28, 2080)\n",
      "(58, 1)\n",
      "(28, 1)\n"
     ]
    },
    {
     "name": "stderr",
     "output_type": "stream",
     "text": [
      "/home/harveyaa/miniconda3/envs/MTL/lib/python3.6/site-packages/sklearn/utils/validation.py:63: DataConversionWarning: A column-vector y was passed when a 1d array was expected. Please change the shape of y to (n_samples, ), for example using ravel().\n",
      "  return f(*args, **kwargs)\n"
     ]
    },
    {
     "data": {
      "text/plain": [
       "0.6071428571428571"
      ]
     },
     "execution_count": 99,
     "metadata": {},
     "output_type": "execute_result"
    }
   ],
   "source": [
    "from sklearn.svm import SVC\n",
    "from sklearn.metrics import accuracy_score\n",
    "\n",
    "clf = SVC(C=100)\n",
    "fold = 4\n",
    "\n",
    "train_idx = df_22q[df_22q[f'fold_{fold}'] == 0].index\n",
    "test_idx = df_22q[df_22q[f'fold_{fold}'] == 1].index\n",
    "\n",
    "X_train = conn[conn.index.isin(train_idx)].values\n",
    "X_test = conn[conn.index.isin(test_idx)].values\n",
    "y_train = df_22q[df_22q.index.isin(train_idx)]['DEL22q11_2'].values.reshape(-1,1)\n",
    "y_test = df_22q[df_22q.index.isin(test_idx)]['DEL22q11_2'].values.reshape(-1,1)\n",
    "\n",
    "print(X_train.shape)\n",
    "print(X_test.shape)\n",
    "print(y_train.shape)\n",
    "print(y_test.shape)\n",
    "\n",
    "clf.fit(X_train,y_train)\n",
    "pred = clf.predict(X_test)\n",
    "accuracy_score(y_test,pred)"
   ]
  },
  {
   "cell_type": "code",
   "execution_count": 100,
   "metadata": {},
   "outputs": [
    {
     "name": "stderr",
     "output_type": "stream",
     "text": [
      "/home/harveyaa/miniconda3/envs/MTL/lib/python3.6/site-packages/IPython/core/interactiveshell.py:2714: DtypeWarning: Columns (7,8,12,13,14,19,20,24,27,31,42,43,44,49,51,59,60,62,64,65,68,101,121,163) have mixed types.Specify dtype option on import or set low_memory=False.\n",
      "  interactivity=interactivity, compiler=compiler, result=result)\n"
     ]
    }
   ],
   "source": [
    "pheno = pd.read_csv(p_pheno,index_col=0)"
   ]
  },
  {
   "cell_type": "code",
   "execution_count": 102,
   "metadata": {},
   "outputs": [],
   "source": [
    "conf = ['AGE',\n",
    "            'SEX',\n",
    "            'SITE',\n",
    "            'mean_conn',\n",
    "            'FD_scrubbed']\n",
    "case = 'DEL22q11_2'\n",
    "\n",
    "# PLOT TEST SET\n",
    "#fig, ax = plt.subplots(len(conf),5,figsize=(15,12))\n",
    "#for i,c in enumerate(conf):\n",
    "#        for fold in range(5):\n",
    "#                #ids = pd.read_csv(os.path.join(temp_dir.name,f\"{case}_test_set_{fold}.txt\"),header=None)\n",
    "#                ids = df_22q[df_22q[f'fold_{fold}']==1].index\n",
    "#                \n",
    "#                sns.histplot(x=c,data=pheno[pheno.index.isin(ids)],hue=case,bins=25,ax=ax[i,fold])\n",
    "#                if i == 0:\n",
    "#                        ax[i,fold].set_title(f'fold {fold}')\n",
    "#                if fold == 0:\n",
    "#                        ax[i,fold].set_xlabel('')\n",
    "#                        ax[i,fold].set_ylabel(c)\n",
    "#                else:\n",
    "#                        ax[i,fold].set_xlabel('')\n",
    "#                        ax[i,fold].set_ylabel('')\n",
    "#                        ax[i,fold].set_yticklabels([])\n",
    "#plt.tight_layout()\n",
    "#plt.subplots_adjust(wspace=0.1,hspace=0.2)\n",
    "#plt.savefig(os.path.join(args.p_out,f\"{case}_test.png\"),dpi=300\n",
    "\n",
    "# PLOT TRAIN SET\n",
    "#fig, ax = plt.subplots(len(conf),5,figsize=(15,12))\n",
    "#for i,c in enumerate(conf):\n",
    "#        for fold in range(5):\n",
    "#                ids_train = ids = df_22q[df_22q[f'fold_{fold}']==0].index\n",
    "#                \n",
    "#                sns.histplot(x=c,data=pheno[pheno.index.isin(ids_train)],hue=case,bins=25,ax=ax[i,fold])\n",
    "#                if i == 0:\n",
    "#                        ax[i,fold].set_title(f'fold {fold}')\n",
    "#                if fold == 0:\n",
    "#                        ax[i,fold].set_xlabel('')\n",
    "#                        ax[i,fold].set_ylabel(c)\n",
    "#                else:\n",
    "#                        ax[i,fold].set_xlabel('')\n",
    "#                        ax[i,fold].set_ylabel('')\n",
    "#                        ax[i,fold].set_yticklabels([])\n",
    "#plt.tight_layout()\n",
    "#plt.subplots_adjust(wspace=0.1,hspace=0.2)"
   ]
  },
  {
   "cell_type": "markdown",
   "metadata": {},
   "source": [
    "# MTL"
   ]
  },
  {
   "cell_type": "code",
   "execution_count": 4,
   "metadata": {},
   "outputs": [
    {
     "name": "stdout",
     "output_type": "stream",
     "text": [
      "Creating datasets...\n",
      "DEL22q11_2\n",
      "Done!\n",
      "\n"
     ]
    }
   ],
   "source": [
    "# Create datasets\n",
    "print('Creating datasets...')\n",
    "data = []\n",
    "for case in cases:\n",
    "    print(case)\n",
    "    data.append(balancedCaseControlDataset(case,p_ids,p_conn,format=0))\n",
    "print('Done!\\n')"
   ]
  },
  {
   "cell_type": "code",
   "execution_count": 5,
   "metadata": {},
   "outputs": [],
   "source": [
    "# BALANCED TEST SETS\n",
    "\n",
    "batch_size=1\n",
    "head=3\n",
    "encoder=3\n",
    "fold=4\n",
    "\n",
    "loss_fns = {}\n",
    "trainloaders = {}\n",
    "testloaders = {}\n",
    "decoders = {}\n",
    "for d, case in zip(data,cases):\n",
    "    train_idx, test_idx = d.split_data(fold)\n",
    "    train_d = Subset(d,train_idx)\n",
    "    test_d = Subset(d,test_idx)\n",
    "    trainloaders[case] = DataLoader(train_d, batch_size=batch_size, shuffle=True)\n",
    "    testloaders[case] = DataLoader(test_d, batch_size=batch_size, shuffle=True)\n",
    "    loss_fns[case] = nn.CrossEntropyLoss()\n",
    "    decoders[case] = eval(f'head{head}().double()')"
   ]
  },
  {
   "cell_type": "code",
   "execution_count": 6,
   "metadata": {},
   "outputs": [],
   "source": [
    "# RANDOM TEST SETS\n",
    "\n",
    "#batch_size=4\n",
    "#head=0\n",
    "#encoder=0\n",
    "#\n",
    "## Split data & create loaders & loss fns\n",
    "#loss_fns = {}\n",
    "#trainloaders = {}\n",
    "#testloaders = {}\n",
    "#decoders = {}\n",
    "#for d, case in zip(data,cases):\n",
    "#    train_d, test_d = split_data(d,seed=888)\n",
    "#    trainloaders[case] = DataLoader(train_d, batch_size=batch_size, shuffle=True)\n",
    "#    testloaders[case] = DataLoader(test_d, batch_size=batch_size, shuffle=True)\n",
    "#    loss_fns[case] = nn.CrossEntropyLoss()\n",
    "#    decoders[case] = eval(f'head{head}().double()')\n",
    "#    #decoders[case] = head3().double()"
   ]
  },
  {
   "cell_type": "code",
   "execution_count": 7,
   "metadata": {},
   "outputs": [
    {
     "name": "stdout",
     "output_type": "stream",
     "text": [
      "Initialized HPSModel using: cpu.\n",
      "\n"
     ]
    }
   ],
   "source": [
    "# Create model\n",
    "model = HPSModel(eval(f'encoder{encoder}().double()'),\n",
    "                decoders,\n",
    "                loss_fns)"
   ]
  },
  {
   "cell_type": "code",
   "execution_count": 8,
   "metadata": {},
   "outputs": [
    {
     "name": "stdout",
     "output_type": "stream",
     "text": [
      "/home/harveyaa/Documents/masters/neuropsych_mtl/tmp\n"
     ]
    }
   ],
   "source": [
    "log_dir = '/home/harveyaa/Documents/masters/neuropsych_mtl/tmp'\n",
    "print(log_dir)"
   ]
  },
  {
   "cell_type": "code",
   "execution_count": 9,
   "metadata": {},
   "outputs": [],
   "source": [
    "num_epochs=100\n",
    "lr = 0.001\n",
    "\n",
    "# Create optimizer & trainer\n",
    "optimizer = torch.optim.Adam(model.parameters(), lr=lr)\n",
    "#scheduler = torch.optim.lr_scheduler.ExponentialLR(optimizer, gamma=0.1)\n",
    "scheduler = torch.optim.lr_scheduler.StepLR(optimizer, step_size=20, gamma=0.05)\n",
    "#trainer = Trainer(optimizer,lr_scheduler=scheduler,num_epochs=num_epochs,log_dir=log_dir)\n",
    "trainer = Trainer(optimizer,num_epochs=num_epochs,log_dir=log_dir)"
   ]
  },
  {
   "cell_type": "code",
   "execution_count": 10,
   "metadata": {},
   "outputs": [
    {
     "name": "stderr",
     "output_type": "stream",
     "text": [
      "Epoch 0: 100%|██████████| 58/58 [00:01<00:00, 53.83it/s]\n",
      "Epoch 1: 100%|██████████| 58/58 [00:01<00:00, 55.90it/s]\n",
      "Epoch 2: 100%|██████████| 58/58 [00:01<00:00, 55.07it/s]\n",
      "Epoch 3: 100%|██████████| 58/58 [00:01<00:00, 54.94it/s]\n",
      "Epoch 4: 100%|██████████| 58/58 [00:01<00:00, 51.07it/s]\n",
      "Epoch 5: 100%|██████████| 58/58 [00:01<00:00, 54.85it/s]\n",
      "Epoch 6: 100%|██████████| 58/58 [00:01<00:00, 52.60it/s]\n",
      "Epoch 7: 100%|██████████| 58/58 [00:01<00:00, 51.51it/s]\n",
      "Epoch 8: 100%|██████████| 58/58 [00:01<00:00, 52.97it/s]\n",
      "Epoch 9: 100%|██████████| 58/58 [00:01<00:00, 52.60it/s]\n",
      "Epoch 10: 100%|██████████| 58/58 [00:01<00:00, 53.59it/s]\n",
      "Epoch 11: 100%|██████████| 58/58 [00:01<00:00, 56.12it/s]\n",
      "Epoch 12: 100%|██████████| 58/58 [00:01<00:00, 45.42it/s]\n",
      "Epoch 13: 100%|██████████| 58/58 [00:01<00:00, 41.06it/s]\n",
      "Epoch 14: 100%|██████████| 58/58 [00:01<00:00, 42.42it/s]\n",
      "Epoch 15: 100%|██████████| 58/58 [00:01<00:00, 42.56it/s]\n",
      "Epoch 16: 100%|██████████| 58/58 [00:01<00:00, 43.40it/s]\n",
      "Epoch 17: 100%|██████████| 58/58 [00:01<00:00, 39.38it/s]\n",
      "Epoch 18: 100%|██████████| 58/58 [00:01<00:00, 47.12it/s]\n",
      "Epoch 19: 100%|██████████| 58/58 [00:01<00:00, 47.78it/s]\n",
      "Epoch 20: 100%|██████████| 58/58 [00:01<00:00, 39.50it/s]\n",
      "Epoch 21: 100%|██████████| 58/58 [00:01<00:00, 41.58it/s]\n",
      "Epoch 22: 100%|██████████| 58/58 [00:01<00:00, 47.78it/s]\n",
      "Epoch 23: 100%|██████████| 58/58 [00:01<00:00, 40.82it/s]\n",
      "Epoch 24: 100%|██████████| 58/58 [00:01<00:00, 35.32it/s]\n",
      "Epoch 25: 100%|██████████| 58/58 [00:01<00:00, 45.05it/s]\n",
      "Epoch 26: 100%|██████████| 58/58 [00:01<00:00, 47.32it/s]\n",
      "Epoch 27: 100%|██████████| 58/58 [00:01<00:00, 45.85it/s]\n",
      "Epoch 28: 100%|██████████| 58/58 [00:01<00:00, 38.52it/s]\n",
      "Epoch 29: 100%|██████████| 58/58 [00:01<00:00, 39.13it/s]\n",
      "Epoch 30: 100%|██████████| 58/58 [00:01<00:00, 38.07it/s]\n",
      "Epoch 31: 100%|██████████| 58/58 [00:01<00:00, 46.52it/s]\n",
      "Epoch 32: 100%|██████████| 58/58 [00:01<00:00, 45.56it/s]\n",
      "Epoch 33: 100%|██████████| 58/58 [00:01<00:00, 45.99it/s]\n",
      "Epoch 34: 100%|██████████| 58/58 [00:01<00:00, 49.19it/s]\n",
      "Epoch 35: 100%|██████████| 58/58 [00:01<00:00, 47.48it/s]\n",
      "Epoch 36: 100%|██████████| 58/58 [00:01<00:00, 37.92it/s]\n",
      "Epoch 37: 100%|██████████| 58/58 [00:01<00:00, 38.90it/s]\n",
      "Epoch 38: 100%|██████████| 58/58 [00:01<00:00, 41.75it/s]\n",
      "Epoch 39: 100%|██████████| 58/58 [00:01<00:00, 41.92it/s]\n",
      "Epoch 40: 100%|██████████| 58/58 [00:01<00:00, 46.30it/s]\n",
      "Epoch 41: 100%|██████████| 58/58 [00:01<00:00, 46.94it/s]\n",
      "Epoch 42: 100%|██████████| 58/58 [00:01<00:00, 46.28it/s]\n",
      "Epoch 43: 100%|██████████| 58/58 [00:01<00:00, 45.31it/s]\n",
      "Epoch 44: 100%|██████████| 58/58 [00:01<00:00, 46.89it/s]\n",
      "Epoch 45: 100%|██████████| 58/58 [00:01<00:00, 45.56it/s]\n",
      "Epoch 46: 100%|██████████| 58/58 [00:01<00:00, 44.90it/s]\n",
      "Epoch 47: 100%|██████████| 58/58 [00:01<00:00, 46.09it/s]\n",
      "Epoch 48: 100%|██████████| 58/58 [00:01<00:00, 47.64it/s]\n",
      "Epoch 49: 100%|██████████| 58/58 [00:01<00:00, 45.92it/s]\n",
      "Epoch 50: 100%|██████████| 58/58 [00:01<00:00, 46.90it/s]\n",
      "Epoch 51: 100%|██████████| 58/58 [00:01<00:00, 47.17it/s]\n",
      "Epoch 52: 100%|██████████| 58/58 [00:01<00:00, 46.35it/s]\n",
      "Epoch 53: 100%|██████████| 58/58 [00:01<00:00, 41.29it/s]\n",
      "Epoch 54: 100%|██████████| 58/58 [00:01<00:00, 46.91it/s]\n",
      "Epoch 55: 100%|██████████| 58/58 [00:01<00:00, 46.02it/s]\n",
      "Epoch 56: 100%|██████████| 58/58 [00:01<00:00, 47.39it/s]\n",
      "Epoch 57: 100%|██████████| 58/58 [00:01<00:00, 41.35it/s]\n",
      "Epoch 58: 100%|██████████| 58/58 [00:01<00:00, 45.28it/s]\n",
      "Epoch 59: 100%|██████████| 58/58 [00:01<00:00, 46.62it/s]\n",
      "Epoch 60: 100%|██████████| 58/58 [00:01<00:00, 46.01it/s]\n",
      "Epoch 61: 100%|██████████| 58/58 [00:01<00:00, 46.17it/s]\n",
      "Epoch 62: 100%|██████████| 58/58 [00:01<00:00, 48.02it/s]\n",
      "Epoch 63: 100%|██████████| 58/58 [00:01<00:00, 47.98it/s]\n",
      "Epoch 64: 100%|██████████| 58/58 [00:01<00:00, 47.66it/s]\n",
      "Epoch 65: 100%|██████████| 58/58 [00:01<00:00, 46.62it/s]\n",
      "Epoch 66: 100%|██████████| 58/58 [00:01<00:00, 48.07it/s]\n",
      "Epoch 67: 100%|██████████| 58/58 [00:01<00:00, 46.87it/s]\n",
      "Epoch 68: 100%|██████████| 58/58 [00:01<00:00, 47.39it/s]\n",
      "Epoch 69: 100%|██████████| 58/58 [00:01<00:00, 46.58it/s]\n",
      "Epoch 70: 100%|██████████| 58/58 [00:01<00:00, 47.16it/s]\n",
      "Epoch 71: 100%|██████████| 58/58 [00:01<00:00, 48.17it/s]\n",
      "Epoch 72: 100%|██████████| 58/58 [00:01<00:00, 46.34it/s]\n",
      "Epoch 73: 100%|██████████| 58/58 [00:01<00:00, 47.06it/s]\n",
      "Epoch 74: 100%|██████████| 58/58 [00:01<00:00, 42.45it/s]\n",
      "Epoch 75: 100%|██████████| 58/58 [00:01<00:00, 46.66it/s]\n",
      "Epoch 76: 100%|██████████| 58/58 [00:01<00:00, 47.24it/s]\n",
      "Epoch 77: 100%|██████████| 58/58 [00:01<00:00, 40.61it/s]\n",
      "Epoch 78: 100%|██████████| 58/58 [00:01<00:00, 46.20it/s]\n",
      "Epoch 79: 100%|██████████| 58/58 [00:01<00:00, 47.20it/s]\n",
      "Epoch 80: 100%|██████████| 58/58 [00:01<00:00, 48.15it/s]\n",
      "Epoch 81: 100%|██████████| 58/58 [00:01<00:00, 46.25it/s]\n",
      "Epoch 82: 100%|██████████| 58/58 [00:01<00:00, 46.75it/s]\n",
      "Epoch 83: 100%|██████████| 58/58 [00:01<00:00, 47.63it/s]\n",
      "Epoch 84: 100%|██████████| 58/58 [00:01<00:00, 47.01it/s]\n",
      "Epoch 85: 100%|██████████| 58/58 [00:01<00:00, 47.90it/s]\n",
      "Epoch 86: 100%|██████████| 58/58 [00:01<00:00, 46.88it/s]\n",
      "Epoch 87: 100%|██████████| 58/58 [00:01<00:00, 46.24it/s]\n",
      "Epoch 88: 100%|██████████| 58/58 [00:01<00:00, 47.85it/s]\n",
      "Epoch 89: 100%|██████████| 58/58 [00:01<00:00, 48.81it/s]\n",
      "Epoch 90: 100%|██████████| 58/58 [00:01<00:00, 48.07it/s]\n",
      "Epoch 91: 100%|██████████| 58/58 [00:01<00:00, 48.57it/s]\n",
      "Epoch 92: 100%|██████████| 58/58 [00:01<00:00, 48.21it/s]\n",
      "Epoch 93: 100%|██████████| 58/58 [00:01<00:00, 45.99it/s]\n",
      "Epoch 94: 100%|██████████| 58/58 [00:01<00:00, 48.02it/s]\n",
      "Epoch 95: 100%|██████████| 58/58 [00:01<00:00, 46.33it/s]\n",
      "Epoch 96: 100%|██████████| 58/58 [00:01<00:00, 48.51it/s]\n",
      "Epoch 97: 100%|██████████| 58/58 [00:01<00:00, 41.21it/s]\n",
      "Epoch 98: 100%|██████████| 58/58 [00:01<00:00, 44.13it/s]\n",
      "Epoch 99: 100%|██████████| 58/58 [00:01<00:00, 47.20it/s]\n"
     ]
    }
   ],
   "source": [
    "# Train model\n",
    "trainer.fit(model,trainloaders,testloaders)"
   ]
  },
  {
   "cell_type": "code",
   "execution_count": 20,
   "metadata": {},
   "outputs": [
    {
     "name": "stdout",
     "output_type": "stream",
     "text": [
      "\n",
      "DEL22q11_2\n",
      "Accuracy:  42.857142857142854\n",
      "Loss:  0.10395262985841776\n",
      "\n"
     ]
    }
   ],
   "source": [
    "# BALANCED\n",
    "# SZ 51.59\n",
    "# BIP 50.0\n",
    "# ASD 47.3\n",
    "\n",
    "# RANDOM\n",
    "# SZ 58.59\n",
    "# BIP 71.875\n",
    "# ASD 49.74\n",
    "\n",
    "# Evaluate at end\n",
    "metrics = model.score(testloaders)\n",
    "for key in metrics.keys():\n",
    "    print()\n",
    "    print(key)\n",
    "    print('Accuracy: ', metrics[key]['accuracy'])\n",
    "    print('Loss: ', metrics[key]['loss'])\n",
    "print()"
   ]
  },
  {
   "cell_type": "code",
   "execution_count": null,
   "metadata": {},
   "outputs": [],
   "source": []
  }
 ],
 "metadata": {
  "interpreter": {
   "hash": "9e9c9c5c044d2ea5dfa7d6bd44b9f426810f06c0ed392c2b436f27e01061f47c"
  },
  "kernelspec": {
   "display_name": "Python 3.7.12 ('MTL')",
   "language": "python",
   "name": "python3"
  },
  "language_info": {
   "codemirror_mode": {
    "name": "ipython",
    "version": 3
   },
   "file_extension": ".py",
   "mimetype": "text/x-python",
   "name": "python",
   "nbconvert_exporter": "python",
   "pygments_lexer": "ipython3",
   "version": "3.6.15"
  },
  "orig_nbformat": 4
 },
 "nbformat": 4,
 "nbformat_minor": 2
}
