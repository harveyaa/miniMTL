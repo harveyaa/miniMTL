{
 "cells": [
  {
   "cell_type": "code",
   "execution_count": 1,
   "metadata": {},
   "outputs": [],
   "source": [
    "import os\n",
    "import numpy as np\n",
    "import pandas as pd\n",
    "import matplotlib.pyplot as plt\n",
    "import seaborn as sns\n",
    "\n",
    "import torch\n",
    "from torch.utils.data import DataLoader\n",
    "import torch.nn as nn\n",
    "import torch.nn.functional as F\n",
    "\n",
    "from miniMTL.datasets import *\n",
    "from miniMTL.models import *\n",
    "from miniMTL.util import *\n",
    "from miniMTL.training import *\n",
    "from miniMTL.hps import *"
   ]
  },
  {
   "cell_type": "code",
   "execution_count": 2,
   "metadata": {},
   "outputs": [],
   "source": [
    "# From torch fundamentals course\n",
    "def train(dataloader, model, loss_fn, name, optimizer,device='cpu'):\n",
    "    size = len(dataloader.dataset)\n",
    "    for batch, (X, y) in enumerate(dataloader):\n",
    "        X, y = X.to(device), y[name].to(device)\n",
    "        \n",
    "        # Compute prediction error\n",
    "        pred = model(X)\n",
    "        loss = loss_fn(pred, y)\n",
    "        \n",
    "        # Backpropagation\n",
    "        optimizer.zero_grad()\n",
    "        loss.backward()\n",
    "        optimizer.step()\n",
    "\n",
    "        if batch % 100 == 0:\n",
    "            loss, current = loss.item(), batch * len(X)\n",
    "            print(f\"loss: {loss:>7f}  [{current:>5d}/{size:>5d}]\")\n",
    "\n",
    "# From torch fundamentals course\n",
    "def test(dataloader, model,loss_fn,name,device='cpu'):\n",
    "    size = len(dataloader.dataset)\n",
    "    model.eval()\n",
    "    test_loss, correct = 0, 0\n",
    "    with torch.no_grad():\n",
    "        for X, y in dataloader:\n",
    "            X, y = X.to(device), y[name].to(device)\n",
    "            pred = model(X)\n",
    "            test_loss += loss_fn(pred, y).item()\n",
    "            correct += (pred.argmax(1) == y).type(torch.float).sum().item()\n",
    "    test_loss /= size\n",
    "    correct /= size\n",
    "    print(f\"Test Error: \\n Accuracy: {(100*correct):>0.1f}%, Avg loss: {test_loss:>8f} \\n\")"
   ]
  },
  {
   "cell_type": "markdown",
   "metadata": {},
   "source": [
    "## Load data"
   ]
  },
  {
   "cell_type": "code",
   "execution_count": 3,
   "metadata": {},
   "outputs": [
    {
     "name": "stderr",
     "output_type": "stream",
     "text": [
      "/home/harveyaa/miniconda3/envs/MTL/lib/python3.7/site-packages/ipykernel_launcher.py:16: DtypeWarning: Columns (7,8,12,13,14,19,20,24,27,31,42,43,44,49,51,59,60,62,64,65,68,101,121,163) have mixed types.Specify dtype option on import or set low_memory=False.\n",
      "  app.launch_new_instance()\n"
     ]
    }
   ],
   "source": [
    "p_pheno = '/home/harveyaa/Documents/fMRI/data/ukbb_9cohorts/pheno_01-12-21.csv'\n",
    "p_conn = '/home/harveyaa/Documents/fMRI/data/ukbb_9cohorts/connectomes/'\n",
    "\n",
    "cases = ['SZ',\n",
    "        #'BIP',\n",
    "        #'ASD',\n",
    "        #'DEL22q11_2',\n",
    "        #'DEL16p11_2',\n",
    "        #'DUP16p11_2',\n",
    "        #'DUP22q11_2',\n",
    "        #'DEL1q21_1',\n",
    "        #'DUP1q21_1'\n",
    "        ]\n",
    "\n",
    "case = 'SZ'\n",
    "data = caseControlDataset(case,p_pheno,p_conn,format=2)"
   ]
  },
  {
   "cell_type": "code",
   "execution_count": 4,
   "metadata": {},
   "outputs": [],
   "source": [
    "train_d, test_d = split_data(data)\n",
    "trainloader = DataLoader(train_d, batch_size=16, shuffle=True)\n",
    "testloader = DataLoader(test_d, batch_size=16, shuffle=True)"
   ]
  },
  {
   "cell_type": "code",
   "execution_count": 5,
   "metadata": {},
   "outputs": [],
   "source": [
    "#net = E2EBlock(1,32).double()\n",
    "net = BrainNetCNN().double()"
   ]
  },
  {
   "cell_type": "code",
   "execution_count": 11,
   "metadata": {},
   "outputs": [
    {
     "name": "stdout",
     "output_type": "stream",
     "text": [
      "Epoch 1\n",
      "-------------------------------\n",
      "loss: 0.704631  [    0/  451]\n",
      "Test Error: \n",
      " Accuracy: 52.2%, Avg loss: 0.048891 \n",
      "\n",
      "Epoch 2\n",
      "-------------------------------\n",
      "loss: 0.716998  [    0/  451]\n",
      "Test Error: \n",
      " Accuracy: 48.7%, Avg loss: 0.049000 \n",
      "\n",
      "Epoch 3\n",
      "-------------------------------\n",
      "loss: 0.694933  [    0/  451]\n",
      "Test Error: \n",
      " Accuracy: 51.3%, Avg loss: 0.049723 \n",
      "\n",
      "Epoch 4\n",
      "-------------------------------\n",
      "loss: 0.624284  [    0/  451]\n",
      "Test Error: \n",
      " Accuracy: 52.2%, Avg loss: 0.050401 \n",
      "\n",
      "Epoch 5\n",
      "-------------------------------\n",
      "loss: 0.843472  [    0/  451]\n",
      "Test Error: \n",
      " Accuracy: 55.8%, Avg loss: 0.048735 \n",
      "\n",
      "Epoch 6\n",
      "-------------------------------\n",
      "loss: 0.548061  [    0/  451]\n",
      "Test Error: \n",
      " Accuracy: 61.9%, Avg loss: 0.043969 \n",
      "\n",
      "Epoch 7\n",
      "-------------------------------\n",
      "loss: 0.518762  [    0/  451]\n",
      "Test Error: \n",
      " Accuracy: 62.8%, Avg loss: 0.045504 \n",
      "\n",
      "Epoch 8\n",
      "-------------------------------\n",
      "loss: 0.494026  [    0/  451]\n",
      "Test Error: \n",
      " Accuracy: 64.6%, Avg loss: 0.052355 \n",
      "\n",
      "Epoch 9\n",
      "-------------------------------\n",
      "loss: 0.129856  [    0/  451]\n",
      "Test Error: \n",
      " Accuracy: 69.9%, Avg loss: 0.043492 \n",
      "\n",
      "Epoch 10\n",
      "-------------------------------\n",
      "loss: 0.282871  [    0/  451]\n",
      "Test Error: \n",
      " Accuracy: 56.6%, Avg loss: 0.041741 \n",
      "\n",
      "Epoch 11\n",
      "-------------------------------\n",
      "loss: 0.604350  [    0/  451]\n",
      "Test Error: \n",
      " Accuracy: 69.0%, Avg loss: 0.044452 \n",
      "\n",
      "Epoch 12\n",
      "-------------------------------\n",
      "loss: 0.512224  [    0/  451]\n",
      "Test Error: \n",
      " Accuracy: 59.3%, Avg loss: 0.056887 \n",
      "\n",
      "Epoch 13\n",
      "-------------------------------\n",
      "loss: 0.183849  [    0/  451]\n",
      "Test Error: \n",
      " Accuracy: 65.5%, Avg loss: 0.108469 \n",
      "\n",
      "Epoch 14\n",
      "-------------------------------\n",
      "loss: 0.515966  [    0/  451]\n",
      "Test Error: \n",
      " Accuracy: 67.3%, Avg loss: 0.053329 \n",
      "\n",
      "Epoch 15\n",
      "-------------------------------\n",
      "loss: 0.277410  [    0/  451]\n",
      "Test Error: \n",
      " Accuracy: 60.2%, Avg loss: 0.075746 \n",
      "\n",
      "Epoch 16\n",
      "-------------------------------\n",
      "loss: 0.227469  [    0/  451]\n",
      "Test Error: \n",
      " Accuracy: 64.6%, Avg loss: 0.051697 \n",
      "\n",
      "Epoch 17\n",
      "-------------------------------\n",
      "loss: 0.308967  [    0/  451]\n",
      "Test Error: \n",
      " Accuracy: 74.3%, Avg loss: 0.093278 \n",
      "\n",
      "Epoch 18\n",
      "-------------------------------\n",
      "loss: 0.671518  [    0/  451]\n",
      "Test Error: \n",
      " Accuracy: 63.7%, Avg loss: 0.076528 \n",
      "\n",
      "Epoch 19\n",
      "-------------------------------\n",
      "loss: 0.199007  [    0/  451]\n",
      "Test Error: \n",
      " Accuracy: 64.6%, Avg loss: 0.095076 \n",
      "\n",
      "Epoch 20\n",
      "-------------------------------\n",
      "loss: 0.344158  [    0/  451]\n",
      "Test Error: \n",
      " Accuracy: 73.5%, Avg loss: 0.114142 \n",
      "\n",
      "Done!\n"
     ]
    }
   ],
   "source": [
    "loss_fn = nn.CrossEntropyLoss()\n",
    "learning_rate = 1e-3\n",
    "optimizer = torch.optim.Adam(net.parameters(), lr=learning_rate)\n",
    "\n",
    "epochs = 20\n",
    "for t in range(epochs):\n",
    "    print(f\"Epoch {t+1}\\n-------------------------------\")\n",
    "    train(trainloader, net, loss_fn, case, optimizer)\n",
    "    test(testloader, net, loss_fn, case)\n",
    "print(\"Done!\")"
   ]
  },
  {
   "cell_type": "code",
   "execution_count": 13,
   "metadata": {},
   "outputs": [
    {
     "data": {
      "text/plain": [
       "(3,)"
      ]
     },
     "execution_count": 13,
     "metadata": {},
     "output_type": "execute_result"
    }
   ],
   "source": [
    "eval('np.array([1,1,1])').shape"
   ]
  },
  {
   "cell_type": "code",
   "execution_count": 6,
   "metadata": {},
   "outputs": [],
   "source": [
    "from torchsummary import summary"
   ]
  },
  {
   "cell_type": "code",
   "execution_count": 10,
   "metadata": {},
   "outputs": [
    {
     "name": "stdout",
     "output_type": "stream",
     "text": [
      "----------------------------------------------------------------\n",
      "        Layer (type)               Output Shape         Param #\n",
      "================================================================\n",
      "            Conv2d-1            [-1, 32, 64, 1]           2,080\n",
      "            Conv2d-2            [-1, 32, 1, 64]           2,080\n",
      "          E2EBlock-3           [-1, 32, 64, 64]               0\n",
      "            Conv2d-4            [-1, 64, 64, 1]         131,136\n",
      "            Conv2d-5            [-1, 64, 1, 64]         131,136\n",
      "          E2EBlock-6           [-1, 64, 64, 64]               0\n",
      "            Conv2d-7             [-1, 1, 64, 1]           4,097\n",
      "            Conv2d-8            [-1, 256, 1, 1]          16,640\n",
      "            Linear-9                  [-1, 128]          32,896\n",
      "           Linear-10                   [-1, 30]           3,870\n",
      "           Linear-11                    [-1, 2]              62\n",
      "================================================================\n",
      "Total params: 323,997\n",
      "Trainable params: 323,997\n",
      "Non-trainable params: 0\n",
      "----------------------------------------------------------------\n",
      "Input size (MB): 0.02\n",
      "Forward/backward pass size (MB): 3.10\n",
      "Params size (MB): 1.24\n",
      "Estimated Total Size (MB): 4.35\n",
      "----------------------------------------------------------------\n"
     ]
    }
   ],
   "source": [
    "net = BrainNetCNN()\n",
    "summary(net,input_size=(1,64,64))"
   ]
  },
  {
   "cell_type": "code",
   "execution_count": 17,
   "metadata": {},
   "outputs": [
    {
     "name": "stdout",
     "output_type": "stream",
     "text": [
      "----------------------------------------------------------------\n",
      "        Layer (type)               Output Shape         Param #\n",
      "================================================================\n",
      "            Conv2d-1           [-1, 256, 1, 52]          10,496\n",
      "       BatchNorm2d-2           [-1, 256, 1, 52]             512\n",
      "            Linear-3                   [-1, 64]         852,032\n",
      "           Dropout-4                   [-1, 64]               0\n",
      "       BatchNorm1d-5                   [-1, 64]             128\n",
      "            Linear-6                   [-1, 64]           4,160\n",
      "           Dropout-7                   [-1, 64]               0\n",
      "       BatchNorm1d-8                   [-1, 64]             128\n",
      "            Linear-9                    [-1, 2]             130\n",
      "          Softmax-10                    [-1, 2]               0\n",
      "================================================================\n",
      "Total params: 867,586\n",
      "Trainable params: 867,586\n",
      "Non-trainable params: 0\n",
      "----------------------------------------------------------------\n",
      "Input size (MB): 0.01\n",
      "Forward/backward pass size (MB): 0.21\n",
      "Params size (MB): 3.31\n",
      "Estimated Total Size (MB): 3.52\n",
      "----------------------------------------------------------------\n"
     ]
    }
   ],
   "source": [
    "summary(ukbbSex(),input_size=(40,52))"
   ]
  },
  {
   "cell_type": "code",
   "execution_count": 44,
   "metadata": {},
   "outputs": [],
   "source": [
    "#convolutional network architecture\n",
    "def model(data, keep_pr):\n",
    "    #first layer: line-by-line convolution with ReLU and dropout\n",
    "    conv = tf.nn.conv2d(data, layer1_weights, [1, 1, 1, 1], padding='VALID')\n",
    "    hidden = tf.nn.dropout(tf.nn.relu(conv+layer1_biases),keep_pr)\n",
    "\n",
    "    #second layer: convolution by column with ReLU and dropout\n",
    "    conv = tf.nn.conv2d(hidden, layer2_weights, [1, 1, 1, 1], padding='VALID')\n",
    "    hidden = tf.nn.dropout(tf.nn.relu(conv+layer2_biases),keep_pr)\n",
    "\n",
    "    #third layer: fully connected hidden layer with dropout and ReLU\n",
    "    shape = hidden.get_shape().as_list()\n",
    "    reshape = tf.reshape(hidden, [shape[0], shape[1] * shape[2] * shape[3]])\n",
    "    hidden = tf.nn.dropout(tf.nn.relu(tf.matmul(reshape, layer3_weights) + layer3_biases),keep_pr)\n",
    "\n",
    "    #fourth (output) layer: fully connected layer with logits as output\n",
    "    return tf.matmul(hidden, layer4_weights) + layer4_biases\n",
    "\n",
    "class CCNN(torch.nn.Module):\n",
    "    def __init__(self,d=64):\n",
    "        super().__init__()\n",
    "        self.d = d\n",
    "        \n",
    "        self.conv1 = torch.nn.Conv2d(1,64,(1,self.d))\n",
    "        self.conv2 = torch.nn.Conv2d(64,128,(self.d,1))\n",
    "        self.fc1 = torch.nn.Linear(128,96)\n",
    "        self.fc2 = torch.nn.Linear(96,2)\n",
    "\n",
    "    def forward(self,x):\n",
    "        x = F.dropout(F.relu(self.conv1(x)),p=0.5)\n",
    "        x = F.dropout(F.relu(self.conv2(x)),p=0.5)\n",
    "        x = x.view(x.size(0), -1)\n",
    "        x = F.dropout(F.relu(self.fc1(x)),p=0.5)\n",
    "        x = F.dropout(F.relu(self.fc2(x)),p=0.5)\n",
    "        return x"
   ]
  },
  {
   "cell_type": "code",
   "execution_count": 31,
   "metadata": {},
   "outputs": [],
   "source": [
    "conv1 = torch.nn.Conv2d(1,64,(1,64)).double()\n",
    "conv2 = torch.nn.Conv2d(64,128,(64,1)).double()\n",
    "fc1 = torch.nn.Linear(128,96).double()\n",
    "fc2 = torch.nn.Linear(96,2).double()"
   ]
  },
  {
   "cell_type": "code",
   "execution_count": 74,
   "metadata": {},
   "outputs": [],
   "source": [
    "model = CCNN().double()\n",
    "net = BrainNetCNN().double()"
   ]
  },
  {
   "cell_type": "code",
   "execution_count": 80,
   "metadata": {},
   "outputs": [
    {
     "name": "stdout",
     "output_type": "stream",
     "text": [
      "tensor([[0.0000, 0.0051],\n",
      "        [0.0000, 0.0809],\n",
      "        [0.0000, 0.0000],\n",
      "        [0.0000, 0.0000],\n",
      "        [0.0000, 0.0000],\n",
      "        [0.0000, 0.0000],\n",
      "        [0.0169, 0.0000],\n",
      "        [0.0338, 0.1829],\n",
      "        [0.0000, 0.0000],\n",
      "        [0.0423, 0.0000],\n",
      "        [0.0000, 0.0000],\n",
      "        [0.0000, 0.0862],\n",
      "        [0.0000, 0.0000],\n",
      "        [0.0000, 0.0000],\n",
      "        [0.0000, 0.0000],\n",
      "        [0.0000, 0.0000]], dtype=torch.float64, grad_fn=<MulBackward0>)\n",
      "tensor([[-0.0142,  0.1391],\n",
      "        [ 0.0077,  0.1593],\n",
      "        [-0.0227,  0.1181],\n",
      "        [-0.0026,  0.1153],\n",
      "        [ 0.0216,  0.0683],\n",
      "        [-0.0133,  0.1509],\n",
      "        [-0.0059,  0.1032],\n",
      "        [-0.0156,  0.0866],\n",
      "        [-0.0026,  0.0870],\n",
      "        [-0.0111,  0.1050],\n",
      "        [-0.0108,  0.1285],\n",
      "        [ 0.0139,  0.1089],\n",
      "        [-0.0100,  0.1118],\n",
      "        [-0.0021,  0.1296],\n",
      "        [-0.0197,  0.1298],\n",
      "        [ 0.0254,  0.1467]], dtype=torch.float64, grad_fn=<LeakyReluBackward0>)\n"
     ]
    }
   ],
   "source": [
    "x = next(iter(trainloader))[0]\n",
    "print(model(x))\n",
    "print(net(x))"
   ]
  },
  {
   "cell_type": "code",
   "execution_count": null,
   "metadata": {},
   "outputs": [],
   "source": []
  }
 ],
 "metadata": {
  "interpreter": {
   "hash": "9e9c9c5c044d2ea5dfa7d6bd44b9f426810f06c0ed392c2b436f27e01061f47c"
  },
  "kernelspec": {
   "display_name": "Python 3.7.12 ('MTL')",
   "language": "python",
   "name": "python3"
  },
  "language_info": {
   "codemirror_mode": {
    "name": "ipython",
    "version": 3
   },
   "file_extension": ".py",
   "mimetype": "text/x-python",
   "name": "python",
   "nbconvert_exporter": "python",
   "pygments_lexer": "ipython3",
   "version": "3.7.12"
  },
  "orig_nbformat": 4
 },
 "nbformat": 4,
 "nbformat_minor": 2
}
